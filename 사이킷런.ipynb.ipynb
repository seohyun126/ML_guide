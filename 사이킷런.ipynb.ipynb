{
 "cells": [
  {
   "cell_type": "markdown",
   "metadata": {
    "id": "xMgSBv9loNs6"
   },
   "source": [
    "# Exercise 1"
   ]
  },
  {
   "cell_type": "markdown",
   "metadata": {
    "id": "FMaKM19W-hsG"
   },
   "source": [
    "## 데이터 다운로드\n",
    "--- \n",
    "아래 셀을 실행시켜 데이터를 colab에 불러옵니다.  \n",
    "셀 실행은 Ctrl + Enter 를 이용해 실행시킬 수 있습니다. "
   ]
  },
  {
   "cell_type": "code",
   "execution_count": 7,
   "metadata": {},
   "outputs": [
    {
     "name": "stdout",
     "output_type": "stream",
     "text": [
      "Requirement already satisfied: wget in c:\\users\\mycom\\anaconda3\\lib\\site-packages (3.2)\n",
      "Note: you may need to restart the kernel to use updated packages.\n"
     ]
    }
   ],
   "source": [
    "pip install wget "
   ]
  },
  {
   "cell_type": "code",
   "execution_count": 11,
   "metadata": {},
   "outputs": [
    {
     "name": "stdout",
     "output_type": "stream",
     "text": [
      "Note: you may need to restart the kernel to use updated packages.\n"
     ]
    },
    {
     "name": "stderr",
     "output_type": "stream",
     "text": [
      "ERROR: Could not find a version that satisfies the requirement zipfile (from versions: none)\n",
      "ERROR: No matching distribution found for zipfile\n"
     ]
    }
   ],
   "source": [
    "pip install zipfile"
   ]
  },
  {
   "cell_type": "code",
   "execution_count": 19,
   "metadata": {},
   "outputs": [
    {
     "name": "stderr",
     "output_type": "stream",
     "text": [
      "'wget'은(는) 내부 또는 외부 명령, 실행할 수 있는 프로그램, 또는\n",
      "배치 파일이 아닙니다.\n"
     ]
    }
   ],
   "source": [
    "!wget 'https://bit.ly/3gLj0Q6'"
   ]
  },
  {
   "cell_type": "code",
   "execution_count": 25,
   "metadata": {
    "id": "BRr7uRtG-0H-"
   },
   "outputs": [
    {
     "name": "stderr",
     "output_type": "stream",
     "text": [
      "--2023-03-31 18:45:41--  https://bit.ly/3gLj0Q6\n",
      "Resolving bit.ly (bit.ly)... 67.199.248.10, 67.199.248.11\n",
      "Connecting to bit.ly (bit.ly)|67.199.248.10|:443... connected.\n",
      "HTTP request sent, awaiting response... 301 Moved Permanently\n",
      "Location: https://drive.google.com/uc?export=download&id=1or_QN1ksv81DNog6Tu_kWcZ5jJWf5W9E [following]\n",
      "--2023-03-31 18:45:42--  https://drive.google.com/uc?export=download&id=1or_QN1ksv81DNog6Tu_kWcZ5jJWf5W9E\n",
      "Resolving drive.google.com (drive.google.com)... 142.251.42.174\n",
      "Connecting to drive.google.com (drive.google.com)|142.251.42.174|:443... connected.\n",
      "HTTP request sent, awaiting response... 303 See Other\n",
      "Location: https://doc-0c-10-docs.googleusercontent.com/docs/securesc/ha0ro937gcuc7l7deffksulhg5h7mbp1/71gign2oh0u0elpc4iibii2uacmp6uj4/1680255900000/17946651057176172524/*/1or_QN1ksv81DNog6Tu_kWcZ5jJWf5W9E?e=download&uuid=8a883709-d09d-48e1-98b5-05a4fb7af1ec [following]\n",
      "Warning: wildcards not supported in HTTP.\n",
      "--2023-03-31 18:45:42--  https://doc-0c-10-docs.googleusercontent.com/docs/securesc/ha0ro937gcuc7l7deffksulhg5h7mbp1/71gign2oh0u0elpc4iibii2uacmp6uj4/1680255900000/17946651057176172524/*/1or_QN1ksv81DNog6Tu_kWcZ5jJWf5W9E?e=download&uuid=8a883709-d09d-48e1-98b5-05a4fb7af1ec\n",
      "Resolving doc-0c-10-docs.googleusercontent.com (doc-0c-10-docs.googleusercontent.com)... 142.250.199.97\n",
      "Connecting to doc-0c-10-docs.googleusercontent.com (doc-0c-10-docs.googleusercontent.com)|142.250.199.97|:443... connected.\n",
      "HTTP request sent, awaiting response... 200 OK\n",
      "Length: 39208 (38K) [application/zip]\n",
      "Saving to: '3gLj0Q6'\n",
      "\n",
      "     0K .......... .......... .......... ........             100%  730K=0.05s\n",
      "\n",
      "2023-03-31 18:45:43 (730 KB/s) - '3gLj0Q6' saved [39208/39208]\n",
      "\n"
     ]
    }
   ],
   "source": [
    "# 데이터 다운로드 링크로 데이터를 코랩에 불러옵니다.\n",
    "\n",
    "!wget \"https://bit.ly/3gLj0Q6\"\n",
    "\n",
    "import zipfile\n",
    "with zipfile.ZipFile('3gLj0Q6', 'r') as existing_zip:\n",
    "    existing_zip.extractall('data')"
   ]
  },
  {
   "cell_type": "markdown",
   "metadata": {
    "id": "ESCvCqF2_QVP"
   },
   "source": [
    "## 라이브러리 불러오기\n",
    "---\n",
    "아래 셀을 실행시켜 pandas 와 DecisionTreeRegressor 를 불러옵니다."
   ]
  },
  {
   "cell_type": "code",
   "execution_count": 35,
   "metadata": {
    "id": "gJv1rVvp-6jE"
   },
   "outputs": [],
   "source": [
    "import pandas as pd\n",
    "from sklearn.tree import DecisionTreeRegressor"
   ]
  },
  {
   "cell_type": "markdown",
   "metadata": {
    "id": "0oob8F8j_blt"
   },
   "source": [
    "## 데이터 불러오기\n",
    "---\n",
    "아래 셀을 실행시켜 csv 파일 데이터를 DataFrame 객체로 불러옵니다."
   ]
  },
  {
   "cell_type": "code",
   "execution_count": 27,
   "metadata": {
    "id": "J-WSiPon_XON"
   },
   "outputs": [],
   "source": [
    "train = pd.read_csv('data/train.csv') \n",
    "test = pd.read_csv('data/test.csv')"
   ]
  },
  {
   "cell_type": "markdown",
   "metadata": {
    "id": "gajgMdGa_h4y"
   },
   "source": [
    "## 결측치 제거하기\n",
    "---\n",
    "결측치를 제거하고, 결측치가 모두 제거됐는지 확인합니다."
   ]
  },
  {
   "cell_type": "code",
   "execution_count": 31,
   "metadata": {
    "id": "-CfkGjDP_fmW"
   },
   "outputs": [
    {
     "name": "stdout",
     "output_type": "stream",
     "text": [
      "id                        0\n",
      "hour                      0\n",
      "hour_bef_temperature      0\n",
      "hour_bef_precipitation    0\n",
      "hour_bef_windspeed        0\n",
      "hour_bef_humidity         0\n",
      "hour_bef_visibility       0\n",
      "hour_bef_ozone            0\n",
      "hour_bef_pm10             0\n",
      "hour_bef_pm2.5            0\n",
      "count                     0\n",
      "dtype: int64\n"
     ]
    }
   ],
   "source": [
    "test = test.dropna()\n",
    "train = train.dropna()\n",
    "\n",
    "print(train.isnull().sum())"
   ]
  },
  {
   "cell_type": "code",
   "execution_count": 32,
   "metadata": {},
   "outputs": [
    {
     "data": {
      "text/html": [
       "<div>\n",
       "<style scoped>\n",
       "    .dataframe tbody tr th:only-of-type {\n",
       "        vertical-align: middle;\n",
       "    }\n",
       "\n",
       "    .dataframe tbody tr th {\n",
       "        vertical-align: top;\n",
       "    }\n",
       "\n",
       "    .dataframe thead th {\n",
       "        text-align: right;\n",
       "    }\n",
       "</style>\n",
       "<table border=\"1\" class=\"dataframe\">\n",
       "  <thead>\n",
       "    <tr style=\"text-align: right;\">\n",
       "      <th></th>\n",
       "      <th>id</th>\n",
       "      <th>hour</th>\n",
       "      <th>hour_bef_temperature</th>\n",
       "      <th>hour_bef_precipitation</th>\n",
       "      <th>hour_bef_windspeed</th>\n",
       "      <th>hour_bef_humidity</th>\n",
       "      <th>hour_bef_visibility</th>\n",
       "      <th>hour_bef_ozone</th>\n",
       "      <th>hour_bef_pm10</th>\n",
       "      <th>hour_bef_pm2.5</th>\n",
       "      <th>count</th>\n",
       "    </tr>\n",
       "  </thead>\n",
       "  <tbody>\n",
       "    <tr>\n",
       "      <th>0</th>\n",
       "      <td>3</td>\n",
       "      <td>20</td>\n",
       "      <td>16.3</td>\n",
       "      <td>1.0</td>\n",
       "      <td>1.5</td>\n",
       "      <td>89.0</td>\n",
       "      <td>576.0</td>\n",
       "      <td>0.027</td>\n",
       "      <td>76.0</td>\n",
       "      <td>33.0</td>\n",
       "      <td>49.0</td>\n",
       "    </tr>\n",
       "    <tr>\n",
       "      <th>1</th>\n",
       "      <td>6</td>\n",
       "      <td>13</td>\n",
       "      <td>20.1</td>\n",
       "      <td>0.0</td>\n",
       "      <td>1.4</td>\n",
       "      <td>48.0</td>\n",
       "      <td>916.0</td>\n",
       "      <td>0.042</td>\n",
       "      <td>73.0</td>\n",
       "      <td>40.0</td>\n",
       "      <td>159.0</td>\n",
       "    </tr>\n",
       "    <tr>\n",
       "      <th>2</th>\n",
       "      <td>7</td>\n",
       "      <td>6</td>\n",
       "      <td>13.9</td>\n",
       "      <td>0.0</td>\n",
       "      <td>0.7</td>\n",
       "      <td>79.0</td>\n",
       "      <td>1382.0</td>\n",
       "      <td>0.033</td>\n",
       "      <td>32.0</td>\n",
       "      <td>19.0</td>\n",
       "      <td>26.0</td>\n",
       "    </tr>\n",
       "    <tr>\n",
       "      <th>3</th>\n",
       "      <td>8</td>\n",
       "      <td>23</td>\n",
       "      <td>8.1</td>\n",
       "      <td>0.0</td>\n",
       "      <td>2.7</td>\n",
       "      <td>54.0</td>\n",
       "      <td>946.0</td>\n",
       "      <td>0.040</td>\n",
       "      <td>75.0</td>\n",
       "      <td>64.0</td>\n",
       "      <td>57.0</td>\n",
       "    </tr>\n",
       "    <tr>\n",
       "      <th>4</th>\n",
       "      <td>9</td>\n",
       "      <td>18</td>\n",
       "      <td>29.5</td>\n",
       "      <td>0.0</td>\n",
       "      <td>4.8</td>\n",
       "      <td>7.0</td>\n",
       "      <td>2000.0</td>\n",
       "      <td>0.057</td>\n",
       "      <td>27.0</td>\n",
       "      <td>11.0</td>\n",
       "      <td>431.0</td>\n",
       "    </tr>\n",
       "  </tbody>\n",
       "</table>\n",
       "</div>"
      ],
      "text/plain": [
       "   id  hour  hour_bef_temperature  hour_bef_precipitation  hour_bef_windspeed  \\\n",
       "0   3    20                  16.3                     1.0                 1.5   \n",
       "1   6    13                  20.1                     0.0                 1.4   \n",
       "2   7     6                  13.9                     0.0                 0.7   \n",
       "3   8    23                   8.1                     0.0                 2.7   \n",
       "4   9    18                  29.5                     0.0                 4.8   \n",
       "\n",
       "   hour_bef_humidity  hour_bef_visibility  hour_bef_ozone  hour_bef_pm10  \\\n",
       "0               89.0                576.0           0.027           76.0   \n",
       "1               48.0                916.0           0.042           73.0   \n",
       "2               79.0               1382.0           0.033           32.0   \n",
       "3               54.0                946.0           0.040           75.0   \n",
       "4                7.0               2000.0           0.057           27.0   \n",
       "\n",
       "   hour_bef_pm2.5  count  \n",
       "0            33.0   49.0  \n",
       "1            40.0  159.0  \n",
       "2            19.0   26.0  \n",
       "3            64.0   57.0  \n",
       "4            11.0  431.0  "
      ]
     },
     "execution_count": 32,
     "metadata": {},
     "output_type": "execute_result"
    }
   ],
   "source": [
    "train.head()"
   ]
  },
  {
   "cell_type": "markdown",
   "metadata": {
    "id": "VLshlruu_nVc"
   },
   "source": [
    "1. train 데이터중 <br>\n",
    "(1) 예측해야할 `count` 피쳐를 drop()함수를 사용하고, axis=1 옵션을 사용해 해당 열을 제외한 데이터들을 `X_train` 이라는 이름의 DataFrame 객체로 만들고 <br>\n",
    "(2) `count` 피쳐만을 데이터로 갖는 `Y_train` 이라는 이름의 DataFrame 객체로 만드는 코드를 아래에 작성하세요"
   ]
  },
  {
   "cell_type": "code",
   "execution_count": 33,
   "metadata": {
    "id": "PjGhMNVN_lGk"
   },
   "outputs": [],
   "source": [
    "X_train = train.drop(['count'], axis=1)\n",
    "Y_train = train['count']"
   ]
  },
  {
   "cell_type": "code",
   "execution_count": 38,
   "metadata": {},
   "outputs": [
    {
     "data": {
      "text/html": [
       "<div>\n",
       "<style scoped>\n",
       "    .dataframe tbody tr th:only-of-type {\n",
       "        vertical-align: middle;\n",
       "    }\n",
       "\n",
       "    .dataframe tbody tr th {\n",
       "        vertical-align: top;\n",
       "    }\n",
       "\n",
       "    .dataframe thead th {\n",
       "        text-align: right;\n",
       "    }\n",
       "</style>\n",
       "<table border=\"1\" class=\"dataframe\">\n",
       "  <thead>\n",
       "    <tr style=\"text-align: right;\">\n",
       "      <th></th>\n",
       "      <th>id</th>\n",
       "      <th>hour</th>\n",
       "      <th>hour_bef_temperature</th>\n",
       "      <th>hour_bef_precipitation</th>\n",
       "      <th>hour_bef_windspeed</th>\n",
       "      <th>hour_bef_humidity</th>\n",
       "      <th>hour_bef_visibility</th>\n",
       "      <th>hour_bef_ozone</th>\n",
       "      <th>hour_bef_pm10</th>\n",
       "      <th>hour_bef_pm2.5</th>\n",
       "    </tr>\n",
       "  </thead>\n",
       "  <tbody>\n",
       "    <tr>\n",
       "      <th>0</th>\n",
       "      <td>3</td>\n",
       "      <td>20</td>\n",
       "      <td>16.3</td>\n",
       "      <td>1.0</td>\n",
       "      <td>1.5</td>\n",
       "      <td>89.0</td>\n",
       "      <td>576.0</td>\n",
       "      <td>0.027</td>\n",
       "      <td>76.0</td>\n",
       "      <td>33.0</td>\n",
       "    </tr>\n",
       "    <tr>\n",
       "      <th>1</th>\n",
       "      <td>6</td>\n",
       "      <td>13</td>\n",
       "      <td>20.1</td>\n",
       "      <td>0.0</td>\n",
       "      <td>1.4</td>\n",
       "      <td>48.0</td>\n",
       "      <td>916.0</td>\n",
       "      <td>0.042</td>\n",
       "      <td>73.0</td>\n",
       "      <td>40.0</td>\n",
       "    </tr>\n",
       "    <tr>\n",
       "      <th>2</th>\n",
       "      <td>7</td>\n",
       "      <td>6</td>\n",
       "      <td>13.9</td>\n",
       "      <td>0.0</td>\n",
       "      <td>0.7</td>\n",
       "      <td>79.0</td>\n",
       "      <td>1382.0</td>\n",
       "      <td>0.033</td>\n",
       "      <td>32.0</td>\n",
       "      <td>19.0</td>\n",
       "    </tr>\n",
       "    <tr>\n",
       "      <th>3</th>\n",
       "      <td>8</td>\n",
       "      <td>23</td>\n",
       "      <td>8.1</td>\n",
       "      <td>0.0</td>\n",
       "      <td>2.7</td>\n",
       "      <td>54.0</td>\n",
       "      <td>946.0</td>\n",
       "      <td>0.040</td>\n",
       "      <td>75.0</td>\n",
       "      <td>64.0</td>\n",
       "    </tr>\n",
       "    <tr>\n",
       "      <th>4</th>\n",
       "      <td>9</td>\n",
       "      <td>18</td>\n",
       "      <td>29.5</td>\n",
       "      <td>0.0</td>\n",
       "      <td>4.8</td>\n",
       "      <td>7.0</td>\n",
       "      <td>2000.0</td>\n",
       "      <td>0.057</td>\n",
       "      <td>27.0</td>\n",
       "      <td>11.0</td>\n",
       "    </tr>\n",
       "  </tbody>\n",
       "</table>\n",
       "</div>"
      ],
      "text/plain": [
       "   id  hour  hour_bef_temperature  hour_bef_precipitation  hour_bef_windspeed  \\\n",
       "0   3    20                  16.3                     1.0                 1.5   \n",
       "1   6    13                  20.1                     0.0                 1.4   \n",
       "2   7     6                  13.9                     0.0                 0.7   \n",
       "3   8    23                   8.1                     0.0                 2.7   \n",
       "4   9    18                  29.5                     0.0                 4.8   \n",
       "\n",
       "   hour_bef_humidity  hour_bef_visibility  hour_bef_ozone  hour_bef_pm10  \\\n",
       "0               89.0                576.0           0.027           76.0   \n",
       "1               48.0                916.0           0.042           73.0   \n",
       "2               79.0               1382.0           0.033           32.0   \n",
       "3               54.0                946.0           0.040           75.0   \n",
       "4                7.0               2000.0           0.057           27.0   \n",
       "\n",
       "   hour_bef_pm2.5  \n",
       "0            33.0  \n",
       "1            40.0  \n",
       "2            19.0  \n",
       "3            64.0  \n",
       "4            11.0  "
      ]
     },
     "execution_count": 38,
     "metadata": {},
     "output_type": "execute_result"
    }
   ],
   "source": [
    "X_train.head()"
   ]
  },
  {
   "cell_type": "markdown",
   "metadata": {
    "id": "OsFe-Y1Y_v-l"
   },
   "source": [
    "2. `model` 변수명으로 모델을 선언하고, fit() 함수를 사용해서, `X_train` 을 input 으로 삼고, `Y_train` 을 output 으로 삼아 모델을 훈련시키는 코드를 아래에 작성하세요"
   ]
  },
  {
   "cell_type": "code",
   "execution_count": 44,
   "metadata": {},
   "outputs": [
    {
     "data": {
      "text/plain": [
       "DecisionTreeRegressor()"
      ]
     },
     "execution_count": 44,
     "metadata": {},
     "output_type": "execute_result"
    }
   ],
   "source": [
    "model = DecisionTreeRegressor()\n",
    "model.fit(X_train, Y_train)"
   ]
  },
  {
   "cell_type": "markdown",
   "metadata": {
    "id": "U5-_yNUsAKRa"
   },
   "source": [
    "3. predict() 를 이용해 test data 를 훈련된 모델로 예측한 data 를 생성하고 예측결과 상위 5개를 출력하는 코드를 작성하세요."
   ]
  },
  {
   "cell_type": "code",
   "execution_count": 65,
   "metadata": {
    "id": "bfmw8qg6BJ2Z"
   },
   "outputs": [
    {
     "name": "stdout",
     "output_type": "stream",
     "text": [
      "[117. 143.  88.  49.  93.]\n"
     ]
    }
   ],
   "source": [
    "pred = model.predict(test)\n",
    "print(pred[:5])"
   ]
  },
  {
   "cell_type": "markdown",
   "metadata": {
    "id": "_rAG2hHKoR6z"
   },
   "source": [
    "# Exercise 2"
   ]
  },
  {
   "cell_type": "markdown",
   "metadata": {
    "id": "omEBVUkgJC13"
   },
   "source": [
    "## 데이터 다운로드\n",
    "---\n",
    "아래 셀을 실행시켜 데이터를 colab 에 불러옵니다.\n",
    "셀 실행은 Ctrl + Enter 를 이용해 실행시킬 수 있습니다."
   ]
  },
  {
   "cell_type": "code",
   "execution_count": 49,
   "metadata": {
    "id": "si-MIrT1JNBt"
   },
   "outputs": [
    {
     "name": "stderr",
     "output_type": "stream",
     "text": [
      "--2023-03-31 18:53:45--  https://bit.ly/3i4n1QB\n",
      "Resolving bit.ly (bit.ly)... 67.199.248.10, 67.199.248.11\n",
      "Connecting to bit.ly (bit.ly)|67.199.248.10|:443... connected.\n",
      "HTTP request sent, awaiting response... 301 Moved Permanently\n",
      "Location: https://drive.google.com/uc?export=download&id=1emLrrpFWT8dCoj5BJb12-5QMG2-nruUw [following]\n",
      "--2023-03-31 18:53:45--  https://drive.google.com/uc?export=download&id=1emLrrpFWT8dCoj5BJb12-5QMG2-nruUw\n",
      "Resolving drive.google.com (drive.google.com)... 142.251.42.174\n",
      "Connecting to drive.google.com (drive.google.com)|142.251.42.174|:443... connected.\n",
      "HTTP request sent, awaiting response... 303 See Other\n",
      "Location: https://doc-10-10-docs.googleusercontent.com/docs/securesc/ha0ro937gcuc7l7deffksulhg5h7mbp1/u690vht8dlfhnsdq27vr5qvg6bucom9c/1680256425000/17946651057176172524/*/1emLrrpFWT8dCoj5BJb12-5QMG2-nruUw?e=download&uuid=fcf1c337-340d-4c7f-b1eb-62d405d644a9 [following]\n",
      "Warning: wildcards not supported in HTTP.\n",
      "--2023-03-31 18:53:46--  https://doc-10-10-docs.googleusercontent.com/docs/securesc/ha0ro937gcuc7l7deffksulhg5h7mbp1/u690vht8dlfhnsdq27vr5qvg6bucom9c/1680256425000/17946651057176172524/*/1emLrrpFWT8dCoj5BJb12-5QMG2-nruUw?e=download&uuid=fcf1c337-340d-4c7f-b1eb-62d405d644a9\n",
      "Resolving doc-10-10-docs.googleusercontent.com (doc-10-10-docs.googleusercontent.com)... 142.250.196.129\n",
      "Connecting to doc-10-10-docs.googleusercontent.com (doc-10-10-docs.googleusercontent.com)|142.250.196.129|:443... connected.\n",
      "HTTP request sent, awaiting response... 200 OK\n",
      "Length: 137694 (134K) [application/zip]\n",
      "Saving to: '3i4n1QB.1'\n",
      "\n",
      "     0K .......... .......... .......... .......... .......... 37%  473K 0s\n",
      "    50K .......... .......... .......... .......... .......... 74%  958K 0s\n",
      "   100K .......... .......... .......... ....                 100% 1.21M=0.2s\n",
      "\n",
      "2023-03-31 18:53:46 (724 KB/s) - '3i4n1QB.1' saved [137694/137694]\n",
      "\n"
     ]
    }
   ],
   "source": [
    "# 데이터 다운로드 링크로 데이터를 코랩에 불러옵니다.\n",
    "\n",
    "!wget \"https://bit.ly/3i4n1QB\"\n",
    "\n",
    "import zipfile\n",
    "with zipfile.ZipFile('3i4n1QB', 'r') as existing_zip:\n",
    "    existing_zip.extractall('data')"
   ]
  },
  {
   "cell_type": "code",
   "execution_count": 50,
   "metadata": {
    "id": "gMK9we3bJQpX"
   },
   "outputs": [],
   "source": [
    "# 라이브러리 불러오기\n",
    "\n",
    "import pandas as pd\n",
    "from sklearn.preprocessing import MinMaxScaler, OneHotEncoder\n",
    "from sklearn.ensemble import RandomForestClassifier"
   ]
  },
  {
   "cell_type": "code",
   "execution_count": 63,
   "metadata": {
    "id": "CLf7mks6JTX0"
   },
   "outputs": [
    {
     "name": "stderr",
     "output_type": "stream",
     "text": [
      "C:\\Users\\MYCOM\\anaconda3\\lib\\site-packages\\sklearn\\utils\\deprecation.py:87: FutureWarning: Function get_feature_names is deprecated; get_feature_names is deprecated in 1.0 and will be removed in 1.2. Please use get_feature_names_out instead.\n",
      "  warnings.warn(msg, category=FutureWarning)\n"
     ]
    },
    {
     "data": {
      "text/html": [
       "<div>\n",
       "<style scoped>\n",
       "    .dataframe tbody tr th:only-of-type {\n",
       "        vertical-align: middle;\n",
       "    }\n",
       "\n",
       "    .dataframe tbody tr th {\n",
       "        vertical-align: top;\n",
       "    }\n",
       "\n",
       "    .dataframe thead th {\n",
       "        text-align: right;\n",
       "    }\n",
       "</style>\n",
       "<table border=\"1\" class=\"dataframe\">\n",
       "  <thead>\n",
       "    <tr style=\"text-align: right;\">\n",
       "      <th></th>\n",
       "      <th>index</th>\n",
       "      <th>quality</th>\n",
       "      <th>fixed acidity</th>\n",
       "      <th>volatile acidity</th>\n",
       "      <th>citric acid</th>\n",
       "      <th>residual sugar</th>\n",
       "      <th>chlorides</th>\n",
       "      <th>free sulfur dioxide</th>\n",
       "      <th>total sulfur dioxide</th>\n",
       "      <th>density</th>\n",
       "      <th>pH</th>\n",
       "      <th>sulphates</th>\n",
       "      <th>alcohol</th>\n",
       "      <th>Scaled fixed acidity</th>\n",
       "      <th>x0_red</th>\n",
       "      <th>x0_white</th>\n",
       "    </tr>\n",
       "  </thead>\n",
       "  <tbody>\n",
       "    <tr>\n",
       "      <th>0</th>\n",
       "      <td>0</td>\n",
       "      <td>5</td>\n",
       "      <td>5.6</td>\n",
       "      <td>0.695</td>\n",
       "      <td>0.06</td>\n",
       "      <td>6.8</td>\n",
       "      <td>0.042</td>\n",
       "      <td>9.0</td>\n",
       "      <td>84.0</td>\n",
       "      <td>0.99432</td>\n",
       "      <td>3.44</td>\n",
       "      <td>0.44</td>\n",
       "      <td>10.2</td>\n",
       "      <td>0.148760</td>\n",
       "      <td>0.0</td>\n",
       "      <td>1.0</td>\n",
       "    </tr>\n",
       "    <tr>\n",
       "      <th>1</th>\n",
       "      <td>1</td>\n",
       "      <td>5</td>\n",
       "      <td>8.8</td>\n",
       "      <td>0.610</td>\n",
       "      <td>0.14</td>\n",
       "      <td>2.4</td>\n",
       "      <td>0.067</td>\n",
       "      <td>10.0</td>\n",
       "      <td>42.0</td>\n",
       "      <td>0.99690</td>\n",
       "      <td>3.19</td>\n",
       "      <td>0.59</td>\n",
       "      <td>9.5</td>\n",
       "      <td>0.413223</td>\n",
       "      <td>1.0</td>\n",
       "      <td>0.0</td>\n",
       "    </tr>\n",
       "    <tr>\n",
       "      <th>2</th>\n",
       "      <td>2</td>\n",
       "      <td>5</td>\n",
       "      <td>7.9</td>\n",
       "      <td>0.210</td>\n",
       "      <td>0.39</td>\n",
       "      <td>2.0</td>\n",
       "      <td>0.057</td>\n",
       "      <td>21.0</td>\n",
       "      <td>138.0</td>\n",
       "      <td>0.99176</td>\n",
       "      <td>3.05</td>\n",
       "      <td>0.52</td>\n",
       "      <td>10.9</td>\n",
       "      <td>0.338843</td>\n",
       "      <td>0.0</td>\n",
       "      <td>1.0</td>\n",
       "    </tr>\n",
       "    <tr>\n",
       "      <th>3</th>\n",
       "      <td>3</td>\n",
       "      <td>6</td>\n",
       "      <td>7.0</td>\n",
       "      <td>0.210</td>\n",
       "      <td>0.31</td>\n",
       "      <td>6.0</td>\n",
       "      <td>0.046</td>\n",
       "      <td>29.0</td>\n",
       "      <td>108.0</td>\n",
       "      <td>0.99390</td>\n",
       "      <td>3.26</td>\n",
       "      <td>0.50</td>\n",
       "      <td>10.8</td>\n",
       "      <td>0.264463</td>\n",
       "      <td>0.0</td>\n",
       "      <td>1.0</td>\n",
       "    </tr>\n",
       "    <tr>\n",
       "      <th>4</th>\n",
       "      <td>4</td>\n",
       "      <td>6</td>\n",
       "      <td>7.8</td>\n",
       "      <td>0.400</td>\n",
       "      <td>0.26</td>\n",
       "      <td>9.5</td>\n",
       "      <td>0.059</td>\n",
       "      <td>32.0</td>\n",
       "      <td>178.0</td>\n",
       "      <td>0.99550</td>\n",
       "      <td>3.04</td>\n",
       "      <td>0.43</td>\n",
       "      <td>10.9</td>\n",
       "      <td>0.330579</td>\n",
       "      <td>0.0</td>\n",
       "      <td>1.0</td>\n",
       "    </tr>\n",
       "  </tbody>\n",
       "</table>\n",
       "</div>"
      ],
      "text/plain": [
       "   index  quality  fixed acidity  volatile acidity  citric acid  \\\n",
       "0      0        5            5.6             0.695         0.06   \n",
       "1      1        5            8.8             0.610         0.14   \n",
       "2      2        5            7.9             0.210         0.39   \n",
       "3      3        6            7.0             0.210         0.31   \n",
       "4      4        6            7.8             0.400         0.26   \n",
       "\n",
       "   residual sugar  chlorides  free sulfur dioxide  total sulfur dioxide  \\\n",
       "0             6.8      0.042                  9.0                  84.0   \n",
       "1             2.4      0.067                 10.0                  42.0   \n",
       "2             2.0      0.057                 21.0                 138.0   \n",
       "3             6.0      0.046                 29.0                 108.0   \n",
       "4             9.5      0.059                 32.0                 178.0   \n",
       "\n",
       "   density    pH  sulphates  alcohol  Scaled fixed acidity  x0_red  x0_white  \n",
       "0  0.99432  3.44       0.44     10.2              0.148760     0.0       1.0  \n",
       "1  0.99690  3.19       0.59      9.5              0.413223     1.0       0.0  \n",
       "2  0.99176  3.05       0.52     10.9              0.338843     0.0       1.0  \n",
       "3  0.99390  3.26       0.50     10.8              0.264463     0.0       1.0  \n",
       "4  0.99550  3.04       0.43     10.9              0.330579     0.0       1.0  "
      ]
     },
     "execution_count": 63,
     "metadata": {},
     "output_type": "execute_result"
    }
   ],
   "source": [
    "train = pd.read_csv('data/train.csv')\n",
    "\n",
    "# Scailing\n",
    "scaler = MinMaxScaler()\n",
    "scaler.fit(train[['fixed acidity']])\n",
    "train['Scaled fixed acidity'] = scaler.transform(train[['fixed acidity']])\n",
    "\n",
    "# Encoding\n",
    "encoder = OneHotEncoder()\n",
    "encoder.fit(train[['type']])\n",
    "onehot = encoder.transform(train[['type']])\n",
    "onehot = onehot.toarray()\n",
    "onehot = pd.DataFrame(onehot)\n",
    "onehot.columns = encoder.get_feature_names()\n",
    "train = pd.concat([train, onehot], axis = 1)\n",
    "train = train.drop(columns = ['type'])\n",
    "train.head()"
   ]
  },
  {
   "cell_type": "code",
   "execution_count": 64,
   "metadata": {},
   "outputs": [
    {
     "data": {
      "text/plain": [
       "(5497, 16)"
      ]
     },
     "execution_count": 64,
     "metadata": {},
     "output_type": "execute_result"
    }
   ],
   "source": [
    "train.shape"
   ]
  },
  {
   "cell_type": "markdown",
   "metadata": {
    "id": "VIt03PA6J0dh"
   },
   "source": [
    "4. sklearn에 model_selection 모듈에서 KFold를 불러와보세요"
   ]
  },
  {
   "cell_type": "code",
   "execution_count": 53,
   "metadata": {
    "id": "wwBMhwuuJV7A"
   },
   "outputs": [],
   "source": [
    "from sklearn.model_selection import KFold"
   ]
  },
  {
   "cell_type": "markdown",
   "metadata": {
    "id": "Pwyd6UpCJ6fN"
   },
   "source": [
    "5. KFold에 n_splits = 5, shuffle = True, random_state = 0이라는 인자를 추가해 \"kf\"라는 변수에 저장해보세요"
   ]
  },
  {
   "cell_type": "code",
   "execution_count": 54,
   "metadata": {
    "id": "nGFgARMpJ9aL"
   },
   "outputs": [],
   "source": [
    "kf=KFold(n_splits=5,shuffle=True,random_state=0)"
   ]
  },
  {
   "cell_type": "markdown",
   "metadata": {
    "id": "nToxKqtxKEBS"
   },
   "source": [
    "6. 반복문을 통해서 1번부터 5번까지의 데이터에 접근해보세요 "
   ]
  },
  {
   "cell_type": "code",
   "execution_count": 57,
   "metadata": {
    "id": "mRHc7n0sKBuK"
   },
   "outputs": [],
   "source": [
    "for train_idx, valid_idx in kf.split(train) :\n",
    "    train_data = train.iloc[train_idx]\n",
    "    valid_data = train.iloc[valid_idx]"
   ]
  },
  {
   "cell_type": "code",
   "execution_count": 61,
   "metadata": {},
   "outputs": [
    {
     "name": "stdout",
     "output_type": "stream",
     "text": [
      "[   0    1    2 ... 5494 5495 5496] [   4   12   14 ... 5479 5486 5493]\n",
      "[   0    2    3 ... 5494 5495 5496] [   1    9   22 ... 5472 5478 5490]\n",
      "[   0    1    4 ... 5493 5494 5496] [   2    3    5 ... 5487 5492 5495]\n",
      "[   0    1    2 ... 5493 5494 5495] [   8   13   18 ... 5485 5489 5496]\n",
      "[   1    2    3 ... 5493 5495 5496] [   0    7   21 ... 5488 5491 5494]\n"
     ]
    }
   ],
   "source": [
    "for train_idx, valid_idx in kf.split(train) :\n",
    "    print(train_idx,valid_idx)"
   ]
  }
 ],
 "metadata": {
  "colab": {
   "collapsed_sections": [],
   "provenance": []
  },
  "kernelspec": {
   "display_name": "Python 3 (ipykernel)",
   "language": "python",
   "name": "python3"
  },
  "language_info": {
   "codemirror_mode": {
    "name": "ipython",
    "version": 3
   },
   "file_extension": ".py",
   "mimetype": "text/x-python",
   "name": "python",
   "nbconvert_exporter": "python",
   "pygments_lexer": "ipython3",
   "version": "3.9.13"
  }
 },
 "nbformat": 4,
 "nbformat_minor": 1
}
