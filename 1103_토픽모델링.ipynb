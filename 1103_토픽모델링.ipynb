{
 "cells": [
  {
   "cell_type": "markdown",
   "id": "5fec3a07",
   "metadata": {},
   "source": [
    "#  토픽 모델링- 20 뉴스그룹\n",
    "- 토픽 모델링이란 문서 집합 속에 숨어 있는 주제를 찾아내는 것\n",
    "- 사람이 수행한은 토픽 모델링에 반해 머신러닝 기반 토픽 모델은 숨겨진 주제를 효과적으로 표현할 수 있는 중심 단어를 함축적으로 추출함\n",
    "- 토픽 모델링에 자주 사용되는 기법은 LSA - Latent Semantic Analysis와 LDA - Latent Dirichlet Allocation이 있음"
   ]
  },
  {
   "cell_type": "code",
   "execution_count": 2,
   "id": "723952b3",
   "metadata": {},
   "outputs": [
    {
     "name": "stdout",
     "output_type": "stream",
     "text": [
      "CountVectorizer Shape (7862, 1000)\n"
     ]
    }
   ],
   "source": [
    "from sklearn.datasets import fetch_20newsgroups\n",
    "from sklearn.feature_extraction.text import CountVectorizer\n",
    "from sklearn.decomposition import LatentDirichletAllocation\n",
    "# 모토사이클, 야구, 그래픽스, 윈도우즈, 중동, 기독교, 전자공학, 의학 \n",
    "# 8개 주제를 추출\n",
    "cats=['rec.motorcycles','rec.sport.baseball','comp.graphics',\n",
    "     'comp.windows.x','talk.politics.mideast','soc.religion.christian',\n",
    "     'sci.electronics','sci.med']\n",
    "news_df=fetch_20newsgroups(subset='all',remove=('headers','footers','quotes'),\n",
    "                                               categories=cats,random_state=0)\n",
    "# LDA는 Count 기반의 벡터화만 적용함\n",
    "count_vect=CountVectorizer(max_df=0.95,max_features=1000,min_df=2,\n",
    "                          stop_words='english',ngram_range=(1,2))\n",
    "feat_vect=count_vect.fit_transform(news_df.data)\n",
    "print('CountVectorizer Shape',feat_vect.shape)"
   ]
  },
  {
   "cell_type": "code",
   "execution_count": 4,
   "id": "24d51bea",
   "metadata": {},
   "outputs": [
    {
     "data": {
      "text/html": [
       "<style>#sk-container-id-1 {color: black;}#sk-container-id-1 pre{padding: 0;}#sk-container-id-1 div.sk-toggleable {background-color: white;}#sk-container-id-1 label.sk-toggleable__label {cursor: pointer;display: block;width: 100%;margin-bottom: 0;padding: 0.3em;box-sizing: border-box;text-align: center;}#sk-container-id-1 label.sk-toggleable__label-arrow:before {content: \"▸\";float: left;margin-right: 0.25em;color: #696969;}#sk-container-id-1 label.sk-toggleable__label-arrow:hover:before {color: black;}#sk-container-id-1 div.sk-estimator:hover label.sk-toggleable__label-arrow:before {color: black;}#sk-container-id-1 div.sk-toggleable__content {max-height: 0;max-width: 0;overflow: hidden;text-align: left;background-color: #f0f8ff;}#sk-container-id-1 div.sk-toggleable__content pre {margin: 0.2em;color: black;border-radius: 0.25em;background-color: #f0f8ff;}#sk-container-id-1 input.sk-toggleable__control:checked~div.sk-toggleable__content {max-height: 200px;max-width: 100%;overflow: auto;}#sk-container-id-1 input.sk-toggleable__control:checked~label.sk-toggleable__label-arrow:before {content: \"▾\";}#sk-container-id-1 div.sk-estimator input.sk-toggleable__control:checked~label.sk-toggleable__label {background-color: #d4ebff;}#sk-container-id-1 div.sk-label input.sk-toggleable__control:checked~label.sk-toggleable__label {background-color: #d4ebff;}#sk-container-id-1 input.sk-hidden--visually {border: 0;clip: rect(1px 1px 1px 1px);clip: rect(1px, 1px, 1px, 1px);height: 1px;margin: -1px;overflow: hidden;padding: 0;position: absolute;width: 1px;}#sk-container-id-1 div.sk-estimator {font-family: monospace;background-color: #f0f8ff;border: 1px dotted black;border-radius: 0.25em;box-sizing: border-box;margin-bottom: 0.5em;}#sk-container-id-1 div.sk-estimator:hover {background-color: #d4ebff;}#sk-container-id-1 div.sk-parallel-item::after {content: \"\";width: 100%;border-bottom: 1px solid gray;flex-grow: 1;}#sk-container-id-1 div.sk-label:hover label.sk-toggleable__label {background-color: #d4ebff;}#sk-container-id-1 div.sk-serial::before {content: \"\";position: absolute;border-left: 1px solid gray;box-sizing: border-box;top: 0;bottom: 0;left: 50%;z-index: 0;}#sk-container-id-1 div.sk-serial {display: flex;flex-direction: column;align-items: center;background-color: white;padding-right: 0.2em;padding-left: 0.2em;position: relative;}#sk-container-id-1 div.sk-item {position: relative;z-index: 1;}#sk-container-id-1 div.sk-parallel {display: flex;align-items: stretch;justify-content: center;background-color: white;position: relative;}#sk-container-id-1 div.sk-item::before, #sk-container-id-1 div.sk-parallel-item::before {content: \"\";position: absolute;border-left: 1px solid gray;box-sizing: border-box;top: 0;bottom: 0;left: 50%;z-index: -1;}#sk-container-id-1 div.sk-parallel-item {display: flex;flex-direction: column;z-index: 1;position: relative;background-color: white;}#sk-container-id-1 div.sk-parallel-item:first-child::after {align-self: flex-end;width: 50%;}#sk-container-id-1 div.sk-parallel-item:last-child::after {align-self: flex-start;width: 50%;}#sk-container-id-1 div.sk-parallel-item:only-child::after {width: 0;}#sk-container-id-1 div.sk-dashed-wrapped {border: 1px dashed gray;margin: 0 0.4em 0.5em 0.4em;box-sizing: border-box;padding-bottom: 0.4em;background-color: white;}#sk-container-id-1 div.sk-label label {font-family: monospace;font-weight: bold;display: inline-block;line-height: 1.2em;}#sk-container-id-1 div.sk-label-container {text-align: center;}#sk-container-id-1 div.sk-container {/* jupyter's `normalize.less` sets `[hidden] { display: none; }` but bootstrap.min.css set `[hidden] { display: none !important; }` so we also need the `!important` here to be able to override the default hidden behavior on the sphinx rendered scikit-learn.org. See: https://github.com/scikit-learn/scikit-learn/issues/21755 */display: inline-block !important;position: relative;}#sk-container-id-1 div.sk-text-repr-fallback {display: none;}</style><div id=\"sk-container-id-1\" class=\"sk-top-container\"><div class=\"sk-text-repr-fallback\"><pre>LatentDirichletAllocation(n_components=8, random_state=0)</pre><b>In a Jupyter environment, please rerun this cell to show the HTML representation or trust the notebook. <br />On GitHub, the HTML representation is unable to render, please try loading this page with nbviewer.org.</b></div><div class=\"sk-container\" hidden><div class=\"sk-item\"><div class=\"sk-estimator sk-toggleable\"><input class=\"sk-toggleable__control sk-hidden--visually\" id=\"sk-estimator-id-1\" type=\"checkbox\" checked><label for=\"sk-estimator-id-1\" class=\"sk-toggleable__label sk-toggleable__label-arrow\">LatentDirichletAllocation</label><div class=\"sk-toggleable__content\"><pre>LatentDirichletAllocation(n_components=8, random_state=0)</pre></div></div></div></div></div>"
      ],
      "text/plain": [
       "LatentDirichletAllocation(n_components=8, random_state=0)"
      ]
     },
     "execution_count": 4,
     "metadata": {},
     "output_type": "execute_result"
    }
   ],
   "source": [
    "lda=LatentDirichletAllocation(n_components=8,random_state=0)\n",
    "lda.fit(feat_vect)"
   ]
  },
  {
   "cell_type": "code",
   "execution_count": 5,
   "id": "0344a17b",
   "metadata": {},
   "outputs": [
    {
     "name": "stdout",
     "output_type": "stream",
     "text": [
      "(8, 1000)\n"
     ]
    },
    {
     "data": {
      "text/plain": [
       "array([[3.60992018e+01, 1.35626798e+02, 2.15751867e+01, ...,\n",
       "        3.02911688e+01, 8.66830093e+01, 6.79285199e+01],\n",
       "       [1.25199920e-01, 1.44401815e+01, 1.25045596e-01, ...,\n",
       "        1.81506995e+02, 1.25097844e-01, 9.39593286e+01],\n",
       "       [3.34762663e+02, 1.25176265e-01, 1.46743299e+02, ...,\n",
       "        1.25105772e-01, 3.63689741e+01, 1.25025218e-01],\n",
       "       ...,\n",
       "       [3.60204965e+01, 2.08640688e+01, 4.29606813e+00, ...,\n",
       "        1.45056650e+01, 8.33854413e+00, 1.55690009e+01],\n",
       "       [1.25128711e-01, 1.25247756e-01, 1.25005143e-01, ...,\n",
       "        9.17278769e+01, 1.25177668e-01, 3.74575887e+01],\n",
       "       [5.49258690e+01, 4.47009532e+00, 9.88524814e+00, ...,\n",
       "        4.87048440e+01, 1.25034678e-01, 1.25074632e-01]])"
      ]
     },
     "execution_count": 5,
     "metadata": {},
     "output_type": "execute_result"
    }
   ],
   "source": [
    "print(lda.components_.shape)\n",
    "lda.components_"
   ]
  },
  {
   "cell_type": "code",
   "execution_count": 7,
   "id": "585fc5ad",
   "metadata": {},
   "outputs": [
    {
     "name": "stdout",
     "output_type": "stream",
     "text": [
      "Topic 0\n",
      "year 10 game medical health team 12 20 disease cancer 1993 games years patients good\n",
      "Topic 1\n",
      "don just like know people said think time ve didn right going say ll way\n",
      "Topic 2\n",
      "image file jpeg program gif images output format files color entry 00 use bit 03\n",
      "Topic 3\n",
      "like know don think use does just good time book read information people used post\n",
      "Topic 4\n",
      "armenian israel armenians jews turkish people israeli jewish government war dos dos turkey arab armenia 000\n",
      "Topic 5\n",
      "edu com available graphics ftp data pub motif mail widget software mit information version sun\n",
      "Topic 6\n",
      "god people jesus church believe christ does christian say think christians bible faith sin life\n",
      "Topic 7\n",
      "use dos thanks windows using window does display help like problem server need know run\n"
     ]
    }
   ],
   "source": [
    "def display_topics(model,feature_names,no_top_words):\n",
    "    for topic_index,topic in enumerate(model.components_):\n",
    "        print('Topic',topic_index)\n",
    "        # components_array에서 가장 값이 큰 순으로 정렬했을 때 그 값의 array를 반환\n",
    "        topic_word_indexes=topic.argsort()[::-1]\n",
    "        top_indexes=topic_word_indexes[:no_top_words]\n",
    "        # top_indexes대상인 인덱스별로 feature_names에 해당하는 word feature 추출 후 join으로 concat\n",
    "        feature_concat=' '.join([feature_names[i] for i in top_indexes])\n",
    "        print(feature_concat)\n",
    "\n",
    "# CountVectorizer 객체 내의 전체 word의 명칭을 get_features_names()를 통해 추출\n",
    "feature_names=count_vect.get_feature_names_out()\n",
    "# 토픽별 가장 연관도가 높은 word를 15개만 추출\n",
    "display_topics(lda,feature_names,15)"
   ]
  },
  {
   "cell_type": "markdown",
   "id": "2c111b7c",
   "metadata": {},
   "source": [
    "- topic 0의 경우 명확하지 않고 일반적인 단어가 주를 이룸\n",
    "- topic 1의 경우 명확하게 컴퓨터 그래픽스 영역의 주제어가 추출됨\n",
    "- topic 2의 경우 기독교 관련 주제어\n",
    "- topic 3의 경우 의학 관련 주제어\n",
    "- topic 4의 경우 윈도우 운영체제와 관련된 주제어\n",
    "- topic 5의 경우 일반적인 단어로 주제어 추출\n",
    "- topic 6의 경우 중동 분쟁 등에 관련된 주제어 추출\n",
    "- topic 7의 경우 애매하지만 윈도우 운영체제와 관련된 주제어가 일부 추출됨"
   ]
  },
  {
   "cell_type": "markdown",
   "id": "05c5f15a",
   "metadata": {},
   "source": [
    "간단한 문서에 대해 서로간의 문서 유사도를 코사인 유사도 기반으로 구해봄"
   ]
  },
  {
   "cell_type": "code",
   "execution_count": 12,
   "id": "41db1554",
   "metadata": {},
   "outputs": [],
   "source": [
    "import numpy as np\n",
    "def cos_similarity(v1,v2):\n",
    "    dot_product=np.dot(v1,v2)\n",
    "    l2_norm=(np.sqrt(sum(np.square(v1)))*np.sqrt(sum(np.square(v2))))\n",
    "    similarity=dot_product/l2_norm\n",
    "    return similarity\n",
    "\n",
    "from sklearn.feature_extraction.text import TfidfVectorizer\n",
    "doc_list=['if you take the blue pill,  the story ends',\n",
    "         'if you take the red pill, you stay in Wonderland',\n",
    "         'if you take the red pill, I show you how deep the rabbit hole goes']"
   ]
  },
  {
   "cell_type": "code",
   "execution_count": 13,
   "id": "550f758f",
   "metadata": {},
   "outputs": [
    {
     "name": "stdout",
     "output_type": "stream",
     "text": [
      "  (0, 2)\t0.41556360057939173\n",
      "  (0, 13)\t0.41556360057939173\n",
      "  (0, 8)\t0.24543855687841593\n",
      "  (0, 0)\t0.41556360057939173\n",
      "  (0, 15)\t0.49087711375683185\n",
      "  (0, 14)\t0.24543855687841593\n",
      "  (0, 17)\t0.24543855687841593\n",
      "  (0, 6)\t0.24543855687841593\n",
      "  (1, 16)\t0.39624495215024286\n",
      "  (1, 7)\t0.39624495215024286\n",
      "  (1, 12)\t0.39624495215024286\n",
      "  (1, 10)\t0.3013544995034864\n",
      "  (1, 8)\t0.2340286519091622\n",
      "  (1, 15)\t0.2340286519091622\n",
      "  (1, 14)\t0.2340286519091622\n",
      "  (1, 17)\t0.4680573038183244\n",
      "  (1, 6)\t0.2340286519091622\n",
      "  (2, 3)\t0.3098560092999078\n",
      "  (2, 4)\t0.3098560092999078\n",
      "  (2, 9)\t0.3098560092999078\n",
      "  (2, 1)\t0.3098560092999078\n",
      "  (2, 5)\t0.3098560092999078\n",
      "  (2, 11)\t0.3098560092999078\n",
      "  (2, 10)\t0.23565348175165166\n",
      "  (2, 8)\t0.1830059506093466\n",
      "  (2, 15)\t0.3660119012186932\n",
      "  (2, 14)\t0.1830059506093466\n",
      "  (2, 17)\t0.3660119012186932\n",
      "  (2, 6)\t0.1830059506093466\n"
     ]
    }
   ],
   "source": [
    "tfidf_vect_simple=TfidfVectorizer()\n",
    "feature_vect_simple=tfidf_vect_simple.fit_transform(doc_list)\n",
    "print(feature_vect_simple)"
   ]
  },
  {
   "cell_type": "code",
   "execution_count": 14,
   "id": "9c4b389a",
   "metadata": {},
   "outputs": [
    {
     "name": "stdout",
     "output_type": "stream",
     "text": [
      "(3, 18)\n"
     ]
    }
   ],
   "source": [
    "print(feature_vect_simple.shape)"
   ]
  },
  {
   "cell_type": "code",
   "execution_count": 17,
   "id": "5f29e0fc",
   "metadata": {},
   "outputs": [
    {
     "name": "stdout",
     "output_type": "stream",
     "text": [
      "0.40207758214950134\n"
     ]
    }
   ],
   "source": [
    "# TFidfVectorizer 로 transform 한 결과는 희소행렬이므로 밀집행렬로 변환\n",
    "feature_vect_dense=feature_vect_simple.todense()\n",
    "# 첫번째 문장과 두번째 문장의 피처 벡터 추출\n",
    "vect1=np.array(feature_vect_dense[0]).reshape(-1,)\n",
    "vect2=np.array(feature_vect_dense[1]).reshape(-1,)\n",
    "# 첫번째 문장과 두번째 문장의 피처 벡터로 두개 문장의 코사인 유사도 추출\n",
    "similarity_simple=cos_similarity(vect1,vect2)\n",
    "print(similarity_simple)"
   ]
  },
  {
   "cell_type": "code",
   "execution_count": 18,
   "id": "18c80416",
   "metadata": {},
   "outputs": [
    {
     "name": "stdout",
     "output_type": "stream",
     "text": [
      "0.4042504477594862\n",
      "0.45647296026166395\n"
     ]
    }
   ],
   "source": [
    "# 첫번째 문장과 세번째 문장의 피처 벡터 추출\n",
    "vect1=np.array(feature_vect_dense[0]).reshape(-1,)\n",
    "vect3=np.array(feature_vect_dense[2]).reshape(-1,)\n",
    "# 첫번째 문장과 세번째 문장의 피처 벡터로 두개 문장의 코사인 유사도 추출\n",
    "similarity_simple=cos_similarity(vect1,vect3)\n",
    "print(similarity_simple)\n",
    "\n",
    "# 두번째 문장과 세번째 문장의 피처 벡터 추출\n",
    "vect2=np.array(feature_vect_dense[1]).reshape(-1,)\n",
    "vect3=np.array(feature_vect_dense[2]).reshape(-1,)\n",
    "# 두번째 문장과 세번째 문장의 피처 벡터로 두개 문장의 코사인 유사도 추출\n",
    "similarity_simple=cos_similarity(vect2,vect3)\n",
    "print(similarity_simple)"
   ]
  },
  {
   "cell_type": "code",
   "execution_count": 19,
   "id": "2ecfd31a",
   "metadata": {},
   "outputs": [
    {
     "name": "stdout",
     "output_type": "stream",
     "text": [
      "[[1.         0.40207758 0.40425045]]\n"
     ]
    }
   ],
   "source": [
    "# 맨 처음의 1 제외하기\n",
    "similarity_simple_pair=cosine_similarity(feature_vect_simple[0],feature_vect_simple)\n",
    "print(similarity_simple_pair)"
   ]
  },
  {
   "cell_type": "code",
   "execution_count": 20,
   "id": "a9273bb4",
   "metadata": {},
   "outputs": [
    {
     "name": "stdout",
     "output_type": "stream",
     "text": [
      "[[0.40207758 0.40425045]]\n"
     ]
    }
   ],
   "source": [
    "# 두번째 문서와 첫번째 세번째 문서의 유사도 측정\n",
    "similarity_simple_pair=cosine_similarity(feature_vect_simple[0],feature_vect_simple[1:])\n",
    "print(similarity_simple_pair)"
   ]
  },
  {
   "cell_type": "code",
   "execution_count": 21,
   "id": "c885f3d1",
   "metadata": {},
   "outputs": [
    {
     "name": "stdout",
     "output_type": "stream",
     "text": [
      "[[0.40207758 0.40425045]\n",
      " [1.         0.45647296]\n",
      " [0.45647296 1.        ]]\n",
      "(3, 2)\n"
     ]
    }
   ],
   "source": [
    "# 쌍으로 코사인 유사도 값 제공\n",
    "# 모든 개별 문서에 쌍으로 코사인 유사도 값 계산\n",
    "similarity_simple_pair=cosine_similarity(feature_vect_simple,feature_vect_simple[1:])\n",
    "print(similarity_simple_pair)\n",
    "print(similarity_simple_pair.shape)"
   ]
  },
  {
   "cell_type": "markdown",
   "id": "8b5b2b74",
   "metadata": {},
   "source": [
    "Opinion Review 데이터 세트를 이용한 문서 유사도 측정"
   ]
  },
  {
   "cell_type": "code",
   "execution_count": 26,
   "id": "c337f777",
   "metadata": {},
   "outputs": [
    {
     "name": "stderr",
     "output_type": "stream",
     "text": [
      "C:\\Users\\MYCOM\\anaconda3\\lib\\site-packages\\sklearn\\feature_extraction\\text.py:525: UserWarning: The parameter 'token_pattern' will not be used since 'tokenizer' is not None'\n",
      "  warnings.warn(\n",
      "C:\\Users\\MYCOM\\anaconda3\\lib\\site-packages\\sklearn\\feature_extraction\\text.py:408: UserWarning: Your stop_words may be inconsistent with your preprocessing. Tokenizing the stop words generated tokens ['b', 'c', 'd', 'e', 'f', 'g', 'h', 'k', 'l', 'm', 'n', 'o', 'p', 'r', 's', 't', 'u', 'v', 'w', 'x', 'y'] not in stop_words.\n",
      "  warnings.warn(\n"
     ]
    }
   ],
   "source": [
    "# 데이터 세트를 새롭게 Dataframe으로 로드하고 문서 군집화 적용\n",
    "import pandas as pd\n",
    "import glob,os\n",
    "from sklearn.cluster import KMeans\n",
    "path=r\"C:\\Users\\MYCOM\\data\\topic\"\n",
    "all_files = glob.glob(os.path.join(path,\"*.data\"))\n",
    "filename_list = []\n",
    "opinion_text = []\n",
    "\n",
    "for file_ in all_files:\n",
    "    df = pd.read_table(file_, index_col=None, header=0, encoding='latin1')\n",
    "    filename_ = file_.split('\\\\')[-1]\n",
    "    filename = filename_.split('.')[0]\n",
    "\n",
    "    filename_list.append(filename)\n",
    "    opinion_text.append(df.to_string())\n",
    "\n",
    "from nltk.stem import WordNetLemmatizer\n",
    "def LemNormalize(text):\n",
    "    lemmatizer = WordNetLemmatizer()\n",
    "    tokens = [lemmatizer.lemmatize(token) for token in text.split()]\n",
    "    return ' '.join(tokens)\n",
    "document_df = pd.DataFrame({'filename':filename_list, 'opinion_text':opinion_text})\n",
    "tfidf_vect=TfidfVectorizer(tokenizer=LemNormalize, stop_words='english',\n",
    "                          ngram_range=(1,2),min_df=0.05,max_df=0.85)\n",
    "feature_vect=tfidf_vect.fit_transform(document_df['opinion_text'])"
   ]
  },
  {
   "cell_type": "code",
   "execution_count": 28,
   "id": "1c55e28b",
   "metadata": {},
   "outputs": [
    {
     "name": "stderr",
     "output_type": "stream",
     "text": [
      "C:\\Users\\MYCOM\\anaconda3\\lib\\site-packages\\sklearn\\cluster\\_kmeans.py:1416: FutureWarning: The default value of `n_init` will change from 10 to 'auto' in 1.4. Set the value of `n_init` explicitly to suppress the warning\n",
      "  super()._check_params_vs_input(X, default_n_init=10)\n"
     ]
    }
   ],
   "source": [
    "km_cluster=KMeans(n_clusters=3,max_iter=10000,random_state=0)\n",
    "km_cluster.fit(feature_vect)\n",
    "cluster_label=km_cluster.labels_\n",
    "cluster_centers=km_cluster.cluster_centers_\n",
    "document_df['cluster_label']=cluster_label"
   ]
  },
  {
   "cell_type": "code",
   "execution_count": 33,
   "id": "ec02427b",
   "metadata": {},
   "outputs": [
    {
     "name": "stdout",
     "output_type": "stream",
     "text": [
      "호텔로 군집화된 문서들의 데이터프레임 Int64Index([1, 13, 14, 15, 20, 21, 28, 30, 31, 32, 38, 39, 40, 45, 46], dtype='int64')\n",
      "bathroom_bestwestern_hotel_sfo\n",
      "[[1.         0.28329664 0.22703961 0.2355389  0.31283466 0.40329423\n",
      "  0.27475301 0.66182111 0.50718393 0.70219945 0.40951239 0.47355721\n",
      "  0.37188293 0.25990141 0.25206913]]\n"
     ]
    }
   ],
   "source": [
    "# 해당 문서 군집화는 전자제품, 호텔, 자동차를 주제로 군집화 됨\n",
    "# 이 중 호텔을 주제로 군집화된 문서를 이용해 특정 문서와 다른 문서간의 유사도를 알아보고자 함\n",
    "# 문서릍 피처벡터화해 변환하면 문서 내 단어에 출현 빈도와 같은 값을 부여해 각 문서가 단어 피처의 값으로 벡터화됨\n",
    "# 이를 위해 호텔을 주제로 군집화된 데이터를 먼저 추출하고 이 데이터에 해당하는 tfidf의 데이터를 추추람\n",
    "from sklearn.metrics.pairwise import cosine_similarity\n",
    "# cluster=1인 데이터는 호텔로 군집화된 데이터임\n",
    "hotel_indexes=document_df[document_df['cluster_label']==1].index\n",
    "print('호텔로 군집화된 문서들의 데이터프레임',hotel_indexes)\n",
    "# 호텔로 군집화된 데이터 중 첫번째 문서를 추출해 파일명 표시\n",
    "comp_docname=document_df.iloc[hotel_indexes[0]]['filename']\n",
    "print(comp_docname)\n",
    "# document_df에서 추출한 index 객체를 feature_vect로 입력해 호텔 군집화된 feature_vect 추출\n",
    "# 이를 이용해 호텔로 군집화된 문서 중 첫번째 문서와 다른 문서간의 코사인 유사도 측정\n",
    "similarity_pair=cosine_similarity(feature_vect[hotel_indexes[0]],feature_vect[hotel_indexes])\n",
    "print(similarity_pair)"
   ]
  },
  {
   "cell_type": "code",
   "execution_count": 39,
   "id": "84e0bbdc",
   "metadata": {},
   "outputs": [
    {
     "data": {
      "text/plain": [
       "<AxesSubplot:xlabel='similarity', ylabel='filename'>"
      ]
     },
     "execution_count": 39,
     "metadata": {},
     "output_type": "execute_result"
    },
    {
     "data": {
      "image/png": "[encoded data removed]",
      "text/plain": [
       "<Figure size 640x480 with 1 Axes>"
      ]
     },
     "metadata": {},
     "output_type": "display_data"
    }
   ],
   "source": [
    "# 단순히 숫자로만 표시해서는 직관적으로 문서가 어느 정도 유사도를 가지는지 이해하기 어려움\n",
    "# 유사도가 높은 순으로 정렬하고 이를 시각화 진행 \n",
    "import seaborn as sns\n",
    "import matplotlib.pyplot as plt\n",
    "%matplotlib inline\n",
    "# 첫번째 문서와 타 문서간 유사도가 큰 순으로 정렬한 인덱스를 추출하되 자기자신은 제외\n",
    "sorted_index=similarity_pair.argsort()[:,::-1]\n",
    "sorted_index=sorted_index[:,1:]\n",
    "# 유사도가 큰순으로 추출해 재정렬\n",
    "hotel_sorted_indexes=hotel_indexes[sorted_index.reshape(-1)]\n",
    "# 유사도가 큰순으로 재정렬하되 자기 자신은 제외\n",
    "hotel_1_sim_value=np.sort(similarity_pair.reshape(-1))[::-1]\n",
    "hotel_1_sim_value=hotel_1_sim_value[1:]\n",
    "# 유사도가 큰순으로 정렬된 인덱스와 유사도 값을 이용해 파일명과 유사도 값을 막대그래프로 시각화\n",
    "hotel_1_sim_df=pd.DataFrame()\n",
    "hotel_1_sim_df['filename']=document_df.iloc[hotel_sorted_indexes]['filename']\n",
    "hotel_1_sim_df['similarity']=hotel_1_sim_value\n",
    "\n",
    "sns.barplot(x='similarity',y='filename',data=hotel_1_sim_df)"
   ]
  },
  {
   "cell_type": "markdown",
   "id": "9a45b7a9",
   "metadata": {},
   "source": [
    "## 한글 텍스트 처리- 네이버 영화 평점 감정 분석\n",
    "- 한글 NLP 처리의 어려움\n",
    "> 일반적으로 한글 처리는 영어 등의 라틴어보다 띄어쓰기와 다양한 조사 때문에 어려움\n",
    "- KoNLPy 소개\n",
    "> 파이썬의 대표적인 한글 형태소 패키지로 형태소의 사전적인 의미는 단어로서 이미를 가지는 최소 단위임. 형태소 분석이란 말뭉치를 이러한 형태소 어근 단위로 쪼개고 각 형태소에 품사 태깅을 부착하는 작업을 일반적으로 지칭함"
   ]
  },
  {
   "cell_type": "code",
   "execution_count": 41,
   "id": "e3cf58a4",
   "metadata": {},
   "outputs": [
    {
     "data": {
      "text/html": [
       "<div>\n",
       "<style scoped>\n",
       "    .dataframe tbody tr th:only-of-type {\n",
       "        vertical-align: middle;\n",
       "    }\n",
       "\n",
       "    .dataframe tbody tr th {\n",
       "        vertical-align: top;\n",
       "    }\n",
       "\n",
       "    .dataframe thead th {\n",
       "        text-align: right;\n",
       "    }\n",
       "</style>\n",
       "<table border=\"1\" class=\"dataframe\">\n",
       "  <thead>\n",
       "    <tr style=\"text-align: right;\">\n",
       "      <th></th>\n",
       "      <th>id</th>\n",
       "      <th>document</th>\n",
       "      <th>label</th>\n",
       "    </tr>\n",
       "  </thead>\n",
       "  <tbody>\n",
       "    <tr>\n",
       "      <th>0</th>\n",
       "      <td>9976970</td>\n",
       "      <td>아 더빙.. 진짜 짜증나네요 목소리</td>\n",
       "      <td>0</td>\n",
       "    </tr>\n",
       "    <tr>\n",
       "      <th>1</th>\n",
       "      <td>3819312</td>\n",
       "      <td>흠...포스터보고 초딩영화줄....오버연기조차 가볍지 않구나</td>\n",
       "      <td>1</td>\n",
       "    </tr>\n",
       "    <tr>\n",
       "      <th>2</th>\n",
       "      <td>10265843</td>\n",
       "      <td>너무재밓었다그래서보는것을추천한다</td>\n",
       "      <td>0</td>\n",
       "    </tr>\n",
       "    <tr>\n",
       "      <th>3</th>\n",
       "      <td>9045019</td>\n",
       "      <td>교도소 이야기구먼 ..솔직히 재미는 없다..평점 조정</td>\n",
       "      <td>0</td>\n",
       "    </tr>\n",
       "    <tr>\n",
       "      <th>4</th>\n",
       "      <td>6483659</td>\n",
       "      <td>사이몬페그의 익살스런 연기가 돋보였던 영화!스파이더맨에서 늙어보이기만 했던 커스틴 ...</td>\n",
       "      <td>1</td>\n",
       "    </tr>\n",
       "  </tbody>\n",
       "</table>\n",
       "</div>"
      ],
      "text/plain": [
       "         id                                           document  label\n",
       "0   9976970                                아 더빙.. 진짜 짜증나네요 목소리      0\n",
       "1   3819312                  흠...포스터보고 초딩영화줄....오버연기조차 가볍지 않구나      1\n",
       "2  10265843                                  너무재밓었다그래서보는것을추천한다      0\n",
       "3   9045019                      교도소 이야기구먼 ..솔직히 재미는 없다..평점 조정      0\n",
       "4   6483659  사이몬페그의 익살스런 연기가 돋보였던 영화!스파이더맨에서 늙어보이기만 했던 커스틴 ...      1"
      ]
     },
     "execution_count": 41,
     "metadata": {},
     "output_type": "execute_result"
    }
   ],
   "source": [
    "train_df=pd.read_csv(\"C:/Users/MYCOM/Downloads/ratings_train.txt\",sep='\\t')\n",
    "train_df.head()"
   ]
  },
  {
   "cell_type": "code",
   "execution_count": 42,
   "id": "e67d9ad3",
   "metadata": {},
   "outputs": [
    {
     "data": {
      "text/plain": [
       "0    75173\n",
       "1    74827\n",
       "Name: label, dtype: int64"
      ]
     },
     "execution_count": 42,
     "metadata": {},
     "output_type": "execute_result"
    }
   ],
   "source": [
    "# 긍부정 감성 분석\n",
    "train_df['label'].value_counts()"
   ]
  },
  {
   "cell_type": "code",
   "execution_count": 44,
   "id": "dc74ab58",
   "metadata": {},
   "outputs": [],
   "source": [
    "# 문자가 아닌 숫자의 경우 단어적인 의미 부족하므로 공백으로 변환\n",
    "# 테스트 데이터 세트에도 동일한 데이터 가공 수행 \n",
    "import re\n",
    "train_df=train_df.fillna(' ')\n",
    "# 정규 표현식을 이용해 숫자를 공백으로 변경\n",
    "train_df['document']=train_df['document'].apply(lambda x: re.sub(r'\\d+',' ',x))\n",
    "# 테스트 데이터 세트를 로딩하고 동일하게\n",
    "test_df=pd.read_csv(\"C:/Users/MYCOM/Downloads/ratings_test.txt\",sep='\\t')\n",
    "test_df=test_df.fillna(' ')\n",
    "# 정규 표현식을 이용해 숫자를 공백으로 변경\n",
    "test_df['document']=test_df['document'].apply(lambda x: re.sub(r'\\d+',' ',x))\n",
    "#id 칼럼 삭제\n",
    "train_df.drop('id',axis=1,inplace=True)\n",
    "test_df.drop('id',axis=1,inplace=True)"
   ]
  },
  {
   "cell_type": "code",
   "execution_count": 50,
   "id": "4f7adefe",
   "metadata": {},
   "outputs": [
    {
     "data": {
      "text/plain": [
       "\"\\nfrom konlpy.tag import Twitter\\n\\ntwitter=Twitter()\\n\\ndef tw_tokenizer(text):\\n    # 입력인자로 들어온 텍스트를 형태소 단어로 토큰화해 리스트 형태 반환\\n        tokens_ko = twitter.morphs(text)\\n        return tokens_ko\\n\\nfrom sklearn.feature_extraction.text import TfidfVectorizer\\nfrom sklearn.linear_model import LogisticRegression\\nfrom sklearn.model_selection import GridSearchCV\\n\\n\\ntfidf_vect = TfidfVectorizer(tokenizer=tw_tokenizer, ngram_range=(1,2), min_df=3, max_df=0.9)\\ntfidf_vect.fit(train_df['document'])\\ntfidf_matrix_train = tfidf_vect.transform(train_df['document'])\\n\\n#LogisticRegression를 이용하여 감성 분석 분류 수행.\\nlg_clf = LogisticRegression(random_state=0)\\n\\nparams = {'C':[1,3.5,4.5,5.5,10]}\\ngrid_cv = GridSearchCV(lg_clf, param_grid=params, cv=3, scoring='accuracy', verbose=1)\\ngrid_cv.fit(tfidf_matrix_train, train_df['label'])\\nprint(grid_cv.best_params_, grid_cv.best_score_)\\n\\n\""
      ]
     },
     "execution_count": 50,
     "metadata": {},
     "output_type": "execute_result"
    }
   ],
   "source": [
    "# 단어 벡터화\n",
    "# 이때 먼저 각 문장을 한글 형태소 분석을 통해 형태소 단어로 토큰화\n",
    "'''\n",
    "from konlpy.tag import Twitter\n",
    "\n",
    "twitter=Twitter()\n",
    "\n",
    "def tw_tokenizer(text):\n",
    "    # 입력인자로 들어온 텍스트를 형태소 단어로 토큰화해 리스트 형태 반환\n",
    "        tokens_ko = twitter.morphs(text)\n",
    "        return tokens_ko\n",
    "\n",
    "from sklearn.feature_extraction.text import TfidfVectorizer\n",
    "from sklearn.linear_model import LogisticRegression\n",
    "from sklearn.model_selection import GridSearchCV\n",
    "\n",
    "\n",
    "tfidf_vect = TfidfVectorizer(tokenizer=tw_tokenizer, ngram_range=(1,2), min_df=3, max_df=0.9)\n",
    "tfidf_vect.fit(train_df['document'])\n",
    "tfidf_matrix_train = tfidf_vect.transform(train_df['document'])\n",
    "\n",
    "#LogisticRegression를 이용하여 감성 분석 분류 수행.\n",
    "lg_clf = LogisticRegression(random_state=0)\n",
    "\n",
    "params = {'C':[1,3.5,4.5,5.5,10]}\n",
    "grid_cv = GridSearchCV(lg_clf, param_grid=params, cv=3, scoring='accuracy', verbose=1)\n",
    "grid_cv.fit(tfidf_matrix_train, train_df['label'])\n",
    "print(grid_cv.best_params_, grid_cv.best_score_)\n",
    "\n",
    "'''"
   ]
  }
 ],
 "metadata": {
  "kernelspec": {
   "display_name": "Python 3 (ipykernel)",
   "language": "python",
   "name": "python3"
  },
  "language_info": {
   "codemirror_mode": {
    "name": "ipython",
    "version": 3
   },
   "file_extension": ".py",
   "mimetype": "text/x-python",
   "name": "python",
   "nbconvert_exporter": "python",
   "pygments_lexer": "ipython3",
   "version": "3.9.13"
  }
 },
 "nbformat": 4,
 "nbformat_minor": 5
}
