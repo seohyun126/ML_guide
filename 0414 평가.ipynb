{
 "cells": [
  {
   "cell_type": "code",
   "execution_count": null,
   "id": "ddcee28c",
   "metadata": {},
   "outputs": [],
   "source": []
  },
  {
   "cell_type": "markdown",
   "id": "74caaf5f",
   "metadata": {},
   "source": [
    "# 평가\n",
    "\n",
    "- 머신러닝:데이터 가공/변환->모델 학습/예측->평가\n",
    "- 성능 평가 지표는 회귀/분류 모델에 따라 달라짐\n",
    "- 회귀: 실제값-예측값의 오차 평균값\n",
    "- 분류: 정확도, 오차행렬, 정밀도, 재현율, F1 스코어, ROC AUC\n",
    "\n",
    "## 정확도\n",
    "\n",
    "> 예측 결과가 동일한 데이터 건수/ 전체 예측 데이터 건수\n",
    ": 이진 데이터 분류의 경우 데이터 구성에 따라 ML모델 성능을 왜곡할 수 있음\n",
    " -> 단순한 알고리즘의 예측을 하더라도 꽤 높은 정확도가 나올 수 있음\n",
    " -> 불균형한 레이블값 분포에서 성능을 판단할 때 적합하지 않음\n",
    " \n",
    "## 오차행렬\n",
    "\n",
    "> TrueNegative / TruePositive / FalseNegative / FalsePositive \n",
    ">> 4가지로 실제 레이블클래스/ 예측 레이블 클래스가 매핑되는지 나타냄\n",
    ">> 정확도= (TN+TP)/(TN+TP+FN+FP)\n",
    ": 불균형한 레이블값 분포에서 성능을 판단할 때 적합하지 않음\n",
    "\n",
    "## 정밀도\n",
    "\n",
    "> =TP/(FP+TP)\n",
    ">> 예측을 positive로 한 대상 중에서 예측과 실제 값이 positive인 비율\n",
    ": 양성 예측도 라고도 함\n",
    ": 실제 negative인 데이터 예측을 positive로 잘못 판단하ㅔ 되면 큰 문제가 되는 경우 중요 지표\n",
    ": ex) 스팸 메일 분류할 때\n",
    "\n",
    "## 재현율\n",
    "\n",
    "> =TP/(FN+TP)\n",
    ">> 실제 값이 positive인 대상 중에서 예측과 실제 값이 positive인 비율\n",
    ": 민감도, True Positive Rate 라고도 함\n",
    ": 실제 positive 양성 데이터를 negative로 잘못 판단하게 되면 큰 문제가 되는 경우 중요한 지표\n",
    ": ex) 암판단모델, 보험 사기, 금융 사기 적발\n",
    "\n",
    "\n",
    "### 정밀도/재현율 TRADE-OFF\n",
    "\n",
    "> 임곗값을 사용해 재현율 높이기\n",
    "\n",
    "## F1 SCORE\n",
    "\n",
    "> 정밀도와 재현율을 결합한 지표\n",
    "\n",
    "## ROC곡선과 AUC\n",
    "\n",
    "> 수신자 판단 곡선, 이진분류의 예측 성능 측정에서 중요한 지표\n",
    "\n",
    "- ROC곡선: False Positive rate이 변할 때 True Positive rate(재현율)이 어떻게 변하는지 나타내는 곡선\n",
    "- 민감도: True Negative rate: 실제값 positive가 정확히 예측해야 하는 수준\n",
    "- 특이성: Specificity: 실제값 negative가 정확히 예측해야 하는 수준\n",
    "\n"
   ]
  },
  {
   "cell_type": "code",
   "execution_count": 1,
   "id": "67e29b6f",
   "metadata": {},
   "outputs": [],
   "source": [
    "from sklearn.base import BaseEstimator\n",
    "class MyDummyClassifier(BaseEstimator):\n",
    "    #fit()에서 아무것도 학습하지 않음\n",
    "    def fit(self,X,y=None):\n",
    "        pass\n",
    "    #predict()에서 sex=1이면 0 아님 1로 예측\n",
    "    def predict(self,X):\n",
    "        pred=np.zeros((X.shape[0],1))\n",
    "        for i in range(X.shape[0]):\n",
    "            if X['Sex'].iloc[i]==1:\n",
    "                pred[i]=0\n",
    "            else:\n",
    "                pred[i]=1\n",
    "        return pred"
   ]
  },
  {
   "cell_type": "code",
   "execution_count": 2,
   "id": "47c46012",
   "metadata": {},
   "outputs": [],
   "source": [
    "## 필요한 함수들\n",
    "\n",
    "from sklearn.preprocessing import LabelEncoder\n",
    "#Null 처리 함수\n",
    "def fillna(df):\n",
    "    df['Age'].fillna(df['Age'].mean(), inplace=True)\n",
    "    df['Cabin'].fillna('N', inplace=True)\n",
    "    df['Embarked'].fillna('N', inplace=True)\n",
    "    df['Fare'].fillna(0, inplace=True)\n",
    "    return df\n",
    "\n",
    "#머신러닝 알고리즘에 불필요한 속성 제거\n",
    "def drop_features(df):\n",
    "    df.drop(['PassengerId', 'Name', 'Ticket'], axis=1, inplace=True)\n",
    "    return df\n",
    "\n",
    "#레이블 인코딩 수행\n",
    "def format_features(df):\n",
    "    df['Cabin'] = df['Cabin'].str[:1]\n",
    "    features = ['Cabin', 'Sex', 'Embarked']\n",
    "    for feature in features:\n",
    "        le = LabelEncoder()\n",
    "        le = le.fit(df[feature])\n",
    "        df[feature] = le.transform(df[feature])\n",
    "    return df\n",
    "\n",
    "#앞에서 설정한 데이터 전처리 함수 호출\n",
    "def transform_features(df):\n",
    "    df = fillna(df)\n",
    "    df = drop_features(df)\n",
    "    df = format_features(df)\n",
    "    return df"
   ]
  },
  {
   "cell_type": "code",
   "execution_count": 3,
   "id": "b138c173",
   "metadata": {},
   "outputs": [
    {
     "name": "stdout",
     "output_type": "stream",
     "text": [
      "Dummy Clasifier의 정확도:0.7877\n"
     ]
    }
   ],
   "source": [
    "import numpy as np\n",
    "import pandas as pd\n",
    "from sklearn.model_selection import train_test_split\n",
    "from sklearn.metrics import accuracy_score\n",
    "\n",
    "titanic_df=pd.read_csv('C:/Users/MYCOM/titanic_train.csv')\n",
    "y_titanic_df=titanic_df['Survived']\n",
    "x_titanic_df=titanic_df.drop('Survived',axis=1)\n",
    "x_titanic_df=transform_features(x_titanic_df)\n",
    "x_train,x_test,y_train,y_test=train_test_split(x_titanic_df,y_titanic_df,test_size=0.2,random_state=0)\n",
    "myclf=MyDummyClassifier()\n",
    "myclf.fit(x_train,y_train)\n",
    "mypredictions=myclf.predict(x_test)\n",
    "print('Dummy Clasifier의 정확도:{0:.4f}'.format(accuracy_score(y_test,mypredictions)))"
   ]
  },
  {
   "cell_type": "code",
   "execution_count": 4,
   "id": "34ea3516",
   "metadata": {},
   "outputs": [
    {
     "name": "stdout",
     "output_type": "stream",
     "text": [
      "레이블 테스트 세트 크기: (450,)\n",
      "테스트 세트 레이블 0과 1의 분포도\n",
      "0    405\n",
      "1     45\n",
      "dtype: int64\n",
      "모든 예측을 0으로 하여도 정확도는 0.9000\n"
     ]
    }
   ],
   "source": [
    "from sklearn.datasets import load_digits\n",
    "from sklearn.model_selection import train_test_split\n",
    "from sklearn.base import BaseEstimator\n",
    "from sklearn.metrics import accuracy_score\n",
    "import numpy as np\n",
    "import pandas as pd\n",
    "\n",
    "class MyFakeClassifier(BaseEstimator):\n",
    "    def fit(self,x,y):\n",
    "        pass\n",
    "    # 입력값으로 들어오는 x 데이터 세트의 크기만큼 모두 0으로 만들어서 반환\n",
    "    def predict(self,x,y):\n",
    "        return np.zeros((len(x),1),dtype=bool)\n",
    "\n",
    "# 사이킷런의 내장 데이터 세트인 load_digits()를 이용해 MNIST 데이터 로딩\n",
    "digits=load_digits()\n",
    "\n",
    "# digits 번호가 7이면 true, 이를 astype(int)로 1로 변환, 7이 아님 false이고 0으로\n",
    "y=(digits.target==7).astype(int)\n",
    "x_train,x_test,y_train,y_test=train_test_split(digits.data,y,random_state=11)\n",
    "\n",
    "# 불균형한 레이블 데이터 분포도 확인\n",
    "print('레이블 테스트 세트 크기:',y_test.shape)\n",
    "print('테스트 세트 레이블 0과 1의 분포도')\n",
    "print(pd.Series(y_test).value_counts())\n",
    "\n",
    "# Dummy Classifier로 학습/예측/정확도 평가\n",
    "fakeclf=MyFakeClassifier()\n",
    "fakeclf.fit(x_train,y_train)\n",
    "fakepred=fakeclf.predict(x_test,y_test)\n",
    "print('모든 예측을 0으로 하여도 정확도는 {0:.4f}'.format(accuracy_score(y_test,fakepred)))"
   ]
  },
  {
   "cell_type": "code",
   "execution_count": 5,
   "id": "5a951439",
   "metadata": {},
   "outputs": [
    {
     "data": {
      "text/plain": [
       "array([[405,   0],\n",
       "       [ 45,   0]], dtype=int64)"
      ]
     },
     "execution_count": 5,
     "metadata": {},
     "output_type": "execute_result"
    }
   ],
   "source": [
    "from sklearn.metrics import confusion_matrix\n",
    "confusion_matrix(y_test,fakepred)\n"
   ]
  },
  {
   "cell_type": "code",
   "execution_count": 13,
   "id": "ecaedc4f",
   "metadata": {},
   "outputs": [],
   "source": [
    "## 정밀도, 재현율\n",
    "\n",
    "from sklearn.metrics import accuracy_score, precision_score, recall_score, confusion_matrix\n",
    "\n",
    "def get_clf_eval(y_test,pred):\n",
    "    confusion=confusion_matrix(y_test,pred)\n",
    "    accuracy=accuracy_score(y_test,pred)\n",
    "    precision=precision_score(y_test,pred)\n",
    "    recall=recall_score(y_test,pred)\n",
    "    print('오차 행렬')\n",
    "    print(confusion)\n",
    "    print('정확도:{0:.4f}, 정밀도:{0:.4f}, 재현율:{2:.4f}'.format(accuracy,precision,recall))\n",
    "    \n",
    "    "
   ]
  },
  {
   "cell_type": "code",
   "execution_count": 14,
   "id": "9185d57a",
   "metadata": {},
   "outputs": [
    {
     "name": "stdout",
     "output_type": "stream",
     "text": [
      "오차 행렬\n",
      "[[104  14]\n",
      " [ 13  48]]\n",
      "정확도:0.8492, 정밀도:0.8492, 재현율:0.7869\n"
     ]
    },
    {
     "name": "stderr",
     "output_type": "stream",
     "text": [
      "C:\\Users\\MYCOM\\anaconda3\\lib\\site-packages\\sklearn\\linear_model\\_logistic.py:814: ConvergenceWarning: lbfgs failed to converge (status=1):\n",
      "STOP: TOTAL NO. of ITERATIONS REACHED LIMIT.\n",
      "\n",
      "Increase the number of iterations (max_iter) or scale the data as shown in:\n",
      "    https://scikit-learn.org/stable/modules/preprocessing.html\n",
      "Please also refer to the documentation for alternative solver options:\n",
      "    https://scikit-learn.org/stable/modules/linear_model.html#logistic-regression\n",
      "  n_iter_i = _check_optimize_result(\n"
     ]
    }
   ],
   "source": [
    "import pandas as pd\n",
    "from sklearn.model_selection import train_test_split\n",
    "from sklearn.linear_model import LogisticRegression\n",
    "\n",
    "# 원본 데이터를 재로딩, 데이터 가공, 학습 데이터와 테스트 데이터로 분할\n",
    "titanic_df=pd.read_csv('C:/Users/MYCOM/titanic_train.csv')\n",
    "y_titanic_df=titanic_df['Survived']\n",
    "x_titanic_df=titanic_df.drop('Survived',axis=1)\n",
    "x_titanic_df=transform_features(x_titanic_df)\n",
    "\n",
    "x_train,x_test,y_train,y_test=train_test_split(x_titanic_df,y_titanic_df,test_size=0.2,random_state=11)\n",
    "lr_clf=LogisticRegression()\n",
    "lr_clf.fit(x_train,y_train)\n",
    "pred=lr_clf.predict(x_test)\n",
    "get_clf_eval(y_test,pred)"
   ]
  },
  {
   "cell_type": "code",
   "execution_count": 15,
   "id": "227c114c",
   "metadata": {},
   "outputs": [
    {
     "name": "stdout",
     "output_type": "stream",
     "text": [
      "pred_proba()결과 shape:(179, 2)\n",
      "pred_proba array에서 앞 3개만 샘플로 추출: [[0.46167981 0.53832019]\n",
      " [0.87859948 0.12140052]\n",
      " [0.87725166 0.12274834]]\n",
      "두개의 class 중에서 더 큰 확률을 클래스 값으로 예측 \n",
      " [[0.46167981 0.53832019 1.        ]\n",
      " [0.87859948 0.12140052 0.        ]\n",
      " [0.87725166 0.12274834 0.        ]]\n"
     ]
    }
   ],
   "source": [
    "pred_proba=lr_clf.predict_proba(x_test)\n",
    "pred=lr_clf.predict(x_test)\n",
    "print('pred_proba()결과 shape:{0}'.format(pred_proba.shape))\n",
    "print('pred_proba array에서 앞 3개만 샘플로 추출:',pred_proba[:3])\n",
    "\n",
    "#예측 확률 array와 예측 결과값 array를 병합해 예측 확률과 결과값을 한눈에 확인\n",
    "pred_proba_result=np.concatenate([pred_proba,pred.reshape(-1,1)],axis=1)\n",
    "print('두개의 class 중에서 더 큰 확률을 클래스 값으로 예측 \\n',pred_proba_result[:3])"
   ]
  },
  {
   "cell_type": "code",
   "execution_count": 16,
   "id": "f7cec71a",
   "metadata": {},
   "outputs": [
    {
     "name": "stdout",
     "output_type": "stream",
     "text": [
      "[[0. 0. 1.]\n",
      " [1. 0. 0.]\n",
      " [0. 0. 1.]]\n"
     ]
    }
   ],
   "source": [
    "# 트레이드 오프\n",
    "\n",
    "from sklearn.preprocessing import Binarizer\n",
    "X=[[1,-1,2],[2,0,0],[0,1.1,1.2]]\n",
    "\n",
    "#X의 개별 원소들이 threshold값보다 같거나 작으면 0을, 크면 1을 반환\n",
    "binarizer=Binarizer(threshold=1.1)\n",
    "print(binarizer.fit_transform(X))"
   ]
  },
  {
   "cell_type": "code",
   "execution_count": 17,
   "id": "441ba898",
   "metadata": {},
   "outputs": [
    {
     "name": "stdout",
     "output_type": "stream",
     "text": [
      "오차 행렬\n",
      "[[104  14]\n",
      " [ 13  48]]\n",
      "정확도:0.8492, 정밀도:0.8492, 재현율:0.7869\n"
     ]
    }
   ],
   "source": [
    "from sklearn.preprocessing import Binarizer\n",
    "# Binarizer의 threshold 설정값, 분류 설정 임곗값\n",
    "custom_threshold=0.5\n",
    "# predict_proba() 반환값의 두번째 칼럼, positive 클래스 칼럼 하나만 추출해 \n",
    "# Binarizer 적용\n",
    "pred_proba_1=pred_proba[:,1].reshape(-1,1)\n",
    "binarizer=Binarizer(threshold=custom_threshold).fit(pred_proba_1)\n",
    "custom_predict=binarizer.transform(pred_proba_1)\n",
    "get_clf_eval(y_test,custom_predict)"
   ]
  },
  {
   "cell_type": "code",
   "execution_count": 18,
   "id": "e8f1ecf7",
   "metadata": {},
   "outputs": [
    {
     "name": "stdout",
     "output_type": "stream",
     "text": [
      "오차 행렬\n",
      "[[99 19]\n",
      " [10 51]]\n",
      "정확도:0.8380, 정밀도:0.8380, 재현율:0.8361\n"
     ]
    }
   ],
   "source": [
    "# 이 분류 결정 임곗값 낮추기\n",
    "\n",
    "# Binarizer threshold 설정값을 0.4로 낮추기 원래 0.5\n",
    "custom_threshold=0.4\n",
    "pred_proba_1=pred_proba[:,1].reshape(-1,1)\n",
    "binarizer=Binarizer(threshold=custom_threshold).fit(pred_proba_1)\n",
    "custom_predict=binarizer.transform(pred_proba_1)\n",
    "get_clf_eval(y_test,custom_predict)"
   ]
  },
  {
   "cell_type": "code",
   "execution_count": 25,
   "id": "902bb09b",
   "metadata": {},
   "outputs": [
    {
     "name": "stdout",
     "output_type": "stream",
     "text": [
      "임곗값: 0.4\n",
      "오차 행렬\n",
      "[[99 19]\n",
      " [10 51]]\n",
      "정확도:0.8380, 정밀도:0.8380, 재현율:0.8361\n",
      "임곗값: 0.45\n",
      "오차 행렬\n",
      "[[103  15]\n",
      " [ 12  49]]\n",
      "정확도:0.8492, 정밀도:0.8492, 재현율:0.8033\n",
      "임곗값: 0.5\n",
      "오차 행렬\n",
      "[[104  14]\n",
      " [ 13  48]]\n",
      "정확도:0.8492, 정밀도:0.8492, 재현율:0.7869\n",
      "임곗값: 0.55\n",
      "오차 행렬\n",
      "[[109   9]\n",
      " [ 15  46]]\n",
      "정확도:0.8659, 정밀도:0.8659, 재현율:0.7541\n",
      "임곗값: 0.6\n",
      "오차 행렬\n",
      "[[112   6]\n",
      " [ 16  45]]\n",
      "정확도:0.8771, 정밀도:0.8771, 재현율:0.7377\n"
     ]
    }
   ],
   "source": [
    "# 임곗값 증가시키면서 평가 지표 조사\n",
    "thresohold=[0.4,0.45,0.5,0.55,0.6]\n",
    "\n",
    "def get_eval_by_threshold(y_test,pred_proba_c1,thresholds):\n",
    "    for custom_threshold in thresholds:\n",
    "        binarizer=Binarizer(threshold=custom_threshold).fit(pred_proba_c1)\n",
    "        custom_predict=binarizer.transform(pred_proba_c1)\n",
    "        print('임곗값:',custom_threshold)\n",
    "        get_clf_eval(y_test,custom_predict)\n",
    "        \n",
    "get_eval_by_threshold(y_test,pred_proba[:,1].reshape(-1,1),thresohold)"
   ]
  },
  {
   "cell_type": "code",
   "execution_count": 28,
   "id": "dcbeef9a",
   "metadata": {},
   "outputs": [
    {
     "name": "stdout",
     "output_type": "stream",
     "text": [
      "반환된 분류 결정 임곗값 배열의 shape (143,)\n",
      "샘플 추출을 위한 임곗값 배열의 index 10개 [  0  15  30  45  60  75  90 105 120 135]\n",
      "샘플용 10개의 임곗값 [0.1  0.12 0.14 0.19 0.28 0.4  0.57 0.67 0.82 0.95]\n",
      "샘플 임곗값별 정밀도 [0.389 0.44  0.466 0.539 0.647 0.729 0.836 0.949 0.958 1.   ]\n",
      "샘플 임곗값별 재현율 [1.    0.967 0.902 0.902 0.902 0.836 0.754 0.607 0.377 0.148]\n"
     ]
    }
   ],
   "source": [
    "from sklearn.metrics import precision_recall_curve\n",
    "\n",
    "#레이블 값이 1일때 예측 확률 추출\n",
    "pred_proba_class1=lr_clf.predict_proba(x_test)[:,1]\n",
    "#실제값 데이터 세트와 레이블 값이 1일 때의 예측 확률을 precision recall curve 인자로 입력\n",
    "precisions,recalls,thresholds=precision_recall_curve(y_test,pred_proba_class1)\n",
    "print('반환된 분류 결정 임곗값 배열의 shape',thresholds.shape)\n",
    "\n",
    "#빈환된 임곗값 배열로우가 147건이므로 샘플로 10건만 추출하되, 임곗값을 15 step으로 추출\n",
    "thr_index=np.arange(0,thresholds.shape[0],15)\n",
    "print('샘플 추출을 위한 임곗값 배열의 index 10개',thr_index)\n",
    "print('샘플용 10개의 임곗값',np.round(thresholds[thr_index],2))\n",
    "\n",
    "print('샘플 임곗값별 정밀도',np.round(precisions[thr_index],3))\n",
    "print('샘플 임곗값별 재현율',np.round(recalls[thr_index],3))"
   ]
  },
  {
   "cell_type": "code",
   "execution_count": 30,
   "id": "bfd75272",
   "metadata": {},
   "outputs": [],
   "source": [
    "import matplotlib.pyplot as plt\n",
    "import matplotlib.ticker as ticker\n",
    "%matplotlib inline"
   ]
  },
  {
   "cell_type": "code",
   "execution_count": 36,
   "id": "41bc256a",
   "metadata": {},
   "outputs": [
    {
     "data": {
      "image/png": "[encoded data removed]",
      "text/plain": [
       "<Figure size 800x600 with 1 Axes>"
      ]
     },
     "metadata": {},
     "output_type": "display_data"
    }
   ],
   "source": [
    "def precision_recall_curve_plot(y_test,pred_proba_c1):\n",
    "    precisions,recalls,thresholds=precision_recall_curve(y_test,pred_proba_c1)\n",
    "    \n",
    "    plt.figure(figsize=(8,6))\n",
    "    threshold_boundary=thresholds.shape[0]\n",
    "    plt.plot(thresholds,precisions[0:threshold_boundary],linestyle='--',label='precision')\n",
    "    plt.plot(thresholds,recalls[0:threshold_boundary],label='recall')\n",
    "    start,end=plt.xlim()\n",
    "    plt.xticks(np.round(np.arange(start,end,0.1),2))\n",
    "    \n",
    "    plt.xlabel('Threshold value');plt.ylabel('Precision and Recall value')\n",
    "    plt.legend();plt.grid()\n",
    "    plt.show()\n",
    "    \n",
    "precision_recall_curve_plot(y_test,lr_clf.predict_proba(x_test)[:,1])"
   ]
  },
  {
   "cell_type": "code",
   "execution_count": 38,
   "id": "e354fb77",
   "metadata": {},
   "outputs": [
    {
     "name": "stdout",
     "output_type": "stream",
     "text": [
      "F1 스코어:0.7805\n"
     ]
    }
   ],
   "source": [
    "from sklearn.metrics import f1_score\n",
    "f1=f1_score(y_test,pred)\n",
    "print('F1 스코어:{0:.4f}'.format(f1))"
   ]
  },
  {
   "cell_type": "code",
   "execution_count": 49,
   "id": "f3dd3d2e",
   "metadata": {},
   "outputs": [
    {
     "name": "stdout",
     "output_type": "stream",
     "text": [
      "임곗값: 0.4\n",
      "오차행렬\n",
      "[[99 19]\n",
      " [10 51]]\n",
      "정확도:0.8380,정밀도:0.7286,재현율:0.8361,F1:0.7786\n",
      "임곗값: 0.45\n",
      "오차행렬\n",
      "[[103  15]\n",
      " [ 12  49]]\n",
      "정확도:0.8492,정밀도:0.7656,재현율:0.8033,F1:0.7840\n",
      "임곗값: 0.5\n",
      "오차행렬\n",
      "[[104  14]\n",
      " [ 13  48]]\n",
      "정확도:0.8492,정밀도:0.7742,재현율:0.7869,F1:0.7805\n",
      "임곗값: 0.55\n",
      "오차행렬\n",
      "[[109   9]\n",
      " [ 15  46]]\n",
      "정확도:0.8659,정밀도:0.8364,재현율:0.7541,F1:0.7931\n",
      "임곗값: 0.6\n",
      "오차행렬\n",
      "[[112   6]\n",
      " [ 16  45]]\n",
      "정확도:0.8771,정밀도:0.8824,재현율:0.7377,F1:0.8036\n"
     ]
    }
   ],
   "source": [
    "def get_clf_eval(y_test,pred):\n",
    "    confusion=confusion_matrix(y_test,pred)\n",
    "    accuracy=accuracy_score(y_test,pred)\n",
    "    precision=precision_score(y_test,pred)\n",
    "    recall=recall_score(y_test,pred)\n",
    "    #F1 스코어 추가\n",
    "    f1=f1_score(y_test,pred)\n",
    "    print('오차행렬')\n",
    "    print(confusion)\n",
    "    #F1 score print 추가\n",
    "    print('정확도:{0:.4f},정밀도:{1:.4f},재현율:{2:.4},F1:{3:.4f}'.format(accuracy,precision,recall,f1))\n",
    "    \n",
    "    \n",
    "thresholds=[0.4,0.45,0.5,0.55,0.6]\n",
    "pred_proba=lr_clf.predict_proba(x_test)\n",
    "#pred_proba[:,1].reshape(-1,1)\n",
    "get_eval_by_threshold(y_test,pred_proba[:,1].reshape(-1,1),thresholds)"
   ]
  },
  {
   "cell_type": "code",
   "execution_count": 51,
   "id": "bab89c6e",
   "metadata": {},
   "outputs": [
    {
     "name": "stdout",
     "output_type": "stream",
     "text": [
      "샘플 추출을 위한 임곗값 배열의 index 10개 [ 1  6 11 16 21 26 31 36 41 46 51]\n",
      "샘플용 10개의 임계값 [0.97 0.65 0.63 0.57 0.45 0.38 0.31 0.13 0.12 0.11 0.1 ]\n",
      "샘플 임곗값별 FPR: [0.    0.017 0.034 0.076 0.127 0.186 0.237 0.576 0.619 0.754 0.814]\n",
      "샘플 임곗값별 TPR: [0.033 0.639 0.705 0.754 0.803 0.852 0.902 0.902 0.951 0.967 1.   ]\n"
     ]
    }
   ],
   "source": [
    "from sklearn.metrics import roc_curve\n",
    "\n",
    "#레이블 값이 1일 때 예측 확률을 추출\n",
    "pred_proba_class1=lr_clf.predict_proba(x_test)[:,1]\n",
    "\n",
    "fprs,tprs,thresholds=roc_curve(y_test,pred_proba_class1)\n",
    "#반환된 임계값 배열 로우가 47건이므로 샘플로 10건만 추출하되, 임계값을 5 스탭으로 추출\n",
    "#thresholds[0]은 max(예측확률)+1 로 임의 설정됨. 이를 제외하기 위해 np.arange 1로 시작\n",
    "\n",
    "import numpy as np\n",
    "thr_index=np.arange(1,thresholds.shape[0],5)\n",
    "print('샘플 추출을 위한 임곗값 배열의 index 10개',thr_index)\n",
    "print('샘플용 10개의 임계값',np.round(thresholds[thr_index],2))\n",
    "\n",
    "print('샘플 임곗값별 FPR:',np.round(fprs[thr_index],3))\n",
    "print('샘플 임곗값별 TPR:',np.round(tprs[thr_index],3))"
   ]
  },
  {
   "cell_type": "code",
   "execution_count": 52,
   "id": "73fa63cb",
   "metadata": {},
   "outputs": [
    {
     "data": {
      "image/png": "[encoded data removed]",
      "text/plain": [
       "<Figure size 640x480 with 1 Axes>"
      ]
     },
     "metadata": {},
     "output_type": "display_data"
    }
   ],
   "source": [
    "def roc_curve_plot(y_test,pred_proba_c1):\n",
    "    fprs,tprs,thresholds=roc_curve(y_test,pred_proba_class1)\n",
    "    plt.plot(fprs,tprs,label='ROC')\n",
    "    plt.plot([0,1],[0,1],'k--',label='Random')\n",
    "    start,end=plt.xlim()\n",
    "    plt.xticks(np.round(np.arange(start,end,0.1),2))\n",
    "    plt.xlim(0,1);plt.ylim(0,1)\n",
    "    plt.xlabel('FPR(1-Sensitivity)');plt.ylabel('TPR(Recall)')\n",
    "    plt.legend()\n",
    "    \n",
    "roc_curve_plot(y_test,pred_proba[:,1])"
   ]
  },
  {
   "cell_type": "code",
   "execution_count": 60,
   "id": "30ba87e9",
   "metadata": {},
   "outputs": [
    {
     "name": "stdout",
     "output_type": "stream",
     "text": [
      "[[104  14]\n",
      " [ 13  48]]\n",
      "정확도: 0.8492\n",
      "정밀도: 0.7742\n",
      "재현율: 0.7869\n"
     ]
    }
   ],
   "source": [
    "from sklearn.metrics import accuracy_score, confusion_matrix,precision_score\n",
    "from sklearn.metrics import recall_score,f1_score,roc_auc_score\n",
    "import numpy as np\n",
    "print(confusion_matrix(y_test,pred))\n",
    "\n",
    "print('정확도:',np.round(accuracy_score(y_test,pred),4))\n",
    "print('정밀도:',np.round(precision_score(y_test,pred),4))\n",
    "print('재현율:',np.round(recall_score(y_test,pred),4))"
   ]
  }
 ],
 "metadata": {
  "kernelspec": {
   "display_name": "Python 3 (ipykernel)",
   "language": "python",
   "name": "python3"
  },
  "language_info": {
   "codemirror_mode": {
    "name": "ipython",
    "version": 3
   },
   "file_extension": ".py",
   "mimetype": "text/x-python",
   "name": "python",
   "nbconvert_exporter": "python",
   "pygments_lexer": "ipython3",
   "version": "3.9.13"
  }
 },
 "nbformat": 4,
 "nbformat_minor": 5
}
