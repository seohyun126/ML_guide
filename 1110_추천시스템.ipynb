{
 "cells": [
  {
   "cell_type": "markdown",
   "id": "f5d1f25c",
   "metadata": {},
   "source": [
    "# 추천 시스템\n",
    "- 콘텐츠 기반 필터링/ 협엽 필터링 방식으로 나뉨\n",
    "- 협엽 필터링 방식은 다시 최근접 이웃과 잠재요인 협업 필터링으로 나뉨\n",
    "\n",
    "\n",
    "## 콘텐츠 기반 필터링 추천 시스템\n",
    "- 사용자가 특정한 아이템을 매우 선호하는 경우, 그 아이템과 비슷한 콘텐츠를 가진 다른 아이템을 추천하는 방식\n",
    "- 예를 들어 사용자가 특정 영화에 높은 평점을 주었다면, 그 영화의 장르, 출연 배우, 감독, 영화 키워드 등이 콘텐츠와 유사한 다른 영화를 추천해주는 방식\n",
    "\n",
    "\n",
    "## 최근접 이웃 협업 필터링\n",
    "- 사용자가 아이템에 매긴 평점 정보나 상품 구매 이력과 같은 사용자 행동 양식만을 기반으로 추천을 수행하는 것이 협업 필터링 방식임\n",
    "- 주요 목표는 사용자-아이템 평점 매트릭스와 같은 축적된 사용자 행동 데이터를 기반으로 사용자가 아직 평가하지 않은 아이테믈 예측 평가하는 것임\n",
    "\n",
    "\n",
    "- 협업 필터링 기반의 추천 시스템은 최근접 이웃방식과 잠재 요인 방식으로 나뉘며 두 방식 모두 사용자-아이템 평점 행렬 데이터에만 의지해 추천을 수행함\n",
    "- 협업 필터링 알고리즘에 사용되는 사용자-아이템 평점 행렬에서 행은 개별 사용자, 열은 개별 아이템으로 구성되며 사용자 아이디 행, 아이템 아이디 열 위치에 해당하는 값이 평점을 나타내는 형태가 되어야 함\n",
    "- 최근접 이웃 협업핗터링은 메모리 협업 필터링이라고도 하며, 일반적으로 사용자 기반과 이이템 기반으로 나뉨\n",
    "> 사용자 기반: 당신과 비슷한 고객들이 다음 상품도 구매했습니다\n",
    "> 아이템 기반: 이 상품을 선택한 다른 고객들은 다음 상품도 구매했습니다\n",
    "- 사용자 기반 최근접 이웃 방식은 특정 사용자와 유사한 다른 사용자를 TOP-N으로 선정해 이 TOP-N 사용자가 좋아하는 아이템을 추천하는 방식. 즉 특정 사용자 간의 유사도를 측정한 뒤 가장 유사도가 높은 TOP-N 사용자를 추출해 그들이 선호하는 아이템을 추천하는 것\n",
    "- 아이템 기반 최근접 이웃 방식은 사용자들이 그 아이템을 좋아하는지/싫어하는지 평가 척도가 유사한 아이템을 추천하는 기준이 되는 알고리즘\n",
    "- 일반저그로 사용자 기반보다 아이템 기반 협업 필터링이 정확도가 더 높음. 그 이유는 비슷한 영화를 좋아한다고 해서 사람들의 취향이 비슷하다고 판단하기는 어려운 경우가 많이 깨문. 매우 유명한 영화는 취향과 관계 없이 대부분의 사람이 관람하는 경우가 있고 사용자들이 평점을 매긴 영화의 개수가 많지 않은 경우가 일반적인데 이를 기바으로 다른 사람과의 유사도를 비교하기가 어려운 부분도 있음. 따라서 최근접 이웃 협업 필터링은 대부분 아이템 기반의 알고리즘을 적용함\n",
    "- 텍스트 분석에서 소개된 유사도 측정 방식인 코사인 유사도는 추천 시스템의 유사도 측정에 가장 많이 사용됨. 추천 시스템에 사용되는 데이터는 피처 벡터화된 텍스트 데이터와 동일하게 다차원 희소 행렬이라는 특징이 있으므로 유사도 측정을 위해 주로 코사인 유사도를 이용함\n",
    "\n",
    "\n",
    "## 잠재 요인 협업 필터링\n",
    "- 사용자-아이템 평점 매트릭스 속에 숨어 있는 잠재 요인을 추출해 추천 예측을 할 수 있게 하는 기법임. 대규모 다차원 행렬을 SVD와 같은 차원 참소 기법으로 분해하는 과정에서 잠재요인을 추출하는데 이를 행렬 분해라고 함\n",
    "- 잠재요인을 기반으로 다차원 희소 행렬인 사용자-아이템 행렬 데이터를 저차원 밀집 행렬의 사용자-잠재요인과 아이템-잠재요인 행렬의 전치행렬로 분해할 수 있으며 이렇게 분해된 두 행렬의 내적을 통해 새로운 예측 사용자-아이템 평점 행렬 데이터를 ㅁ나들어서 사용자가 아직 평점을 부여하지 않은 아이템에 대한 예측 평점을 생성하는 것이 잠재 요인 협력 필터링 알고리즘\n",
    "- 행렬 분해에 의해 추출되는 잠재요인이 정확히 어떤 것인지 알 수 없지만, 가령 영화 평점 기반의 사용자-아이템 평점 행렬 데이터라면 영화가 가지는 장르별 특성 선호도로 가장할 수 있음. 즉 사용자-잠재요인은 사용자의 영화 장르에 대한 선호도로, 아이템-잠재요인 행렬은 영화의 장르별 특성값으로 정의할 수 있음\n",
    "\n",
    "## 행렬 분해의 이해\n",
    "- 행렬 분해는 다차원의 매트릭스를 저차원 매트릭스로 분해하는 기법으로서 대표적으로 SVD, NMF 등이 있음\n",
    "\n",
    "## 확률적 경사하강법을 이용한 행렬 분해\n",
    "- 확률적 경사하강법을 이요한 행렬 분해 방법이란 P와 Q 행렬로 계산된 예측행렬 R 행렬값이 실제 R 행렬과 가장 최소의 오류를 가질 수 있도록 반복적인 비용 함수 최적화를 통해 P와 Q를 유추해내는 것임\n",
    "1. P와 Q를 임의의 값을 가진 행렬로 설정함\n",
    "2. P와 Q.T 값을 곱해 예측 행렬 R 행렬을 계산하고 예측행렬과 실제행렬에 해당하는 오류값을 계산함\n",
    "3. 이 오류값을 최소화할 수 있도록 P와 Q 행렬은 적절한 값으로 각각 업데이트 함\n",
    "4. 만족할만한 오류값을 가질 때까지 2,3 작업을 반복하면서 P와 Q 값을 업데이트해 근사화함"
   ]
  },
  {
   "cell_type": "code",
   "execution_count": 15,
   "id": "104a925d",
   "metadata": {},
   "outputs": [],
   "source": [
    "# SGD를 이용해 행렬 분해를 수행하는 예제\n",
    "import numpy as np\n",
    "# 원본행렬 R 생성, 분해행렬 P와 Q 초기화, 잠재 요인 차원 K는 3으로 설정\n",
    "R=np.array([[4,np.NaN,np.NaN,2,np.NaN],\n",
    "           [np.NaN,5,np.NaN,3,1],\n",
    "           [np.NaN,np.NaN,3,4,4],\n",
    "           [5,2,1,2,np.NaN]])\n",
    "num_users,num_items=R.shape\n",
    "K=3\n",
    "# P와 Q 행렬의 크기를 지정하고 정규분포를 가진 임의의 값으로 입력함\n",
    "np.random.seed(1)\n",
    "P=np.random.normal(scale=1./K,size=(num_users,K))\n",
    "Q=np.random.normal(scale=1./K,size=(num_items,K))"
   ]
  },
  {
   "cell_type": "code",
   "execution_count": 16,
   "id": "df0d258c",
   "metadata": {},
   "outputs": [],
   "source": [
    "# 실제 R 행렬과 예측 행렬의 오차를 구하는 get_rmse 함수 만들기\n",
    "# 행렬 값의 위치 인덱스를 추출해 이 인덱스에 있는 실제 행렬값과 분해된\n",
    "# P,Q를 이용해 다시 조합된 예측 행렬 값의 RMSE를 반환함\n",
    "from sklearn.metrics import mean_squared_error\n",
    "def get_rmse(R,P,Q,non_zeros):\n",
    "    error=0\n",
    "    # 두 개의 분해된 행렬 P와 Q.T의 내적으로 예측 행렬 생성\n",
    "    full_pred_matrix=np.dot(P,Q.T)\n",
    "    # 실제 행렬에서 널이 아닌 값의 위치 인덱스를 추출해 실제 행렬과 예측 행렬의 RMSE 추출\n",
    "    x_non_zero_ind = [non_zero[0] for non_zero in non_zeros]\n",
    "    y_non_zero_ind = [non_zero[1] for non_zero in non_zeros]\n",
    "    R_non_zeros = R[x_non_zero_ind, y_non_zero_ind]\n",
    "    full_pred_matrix_non_zeros = full_pred_matrix[x_non_zero_ind, y_non_zero_ind]\n",
    "       \n",
    "    mse = mean_squared_error(R_non_zeros, full_pred_matrix_non_zeros)\n",
    "    rmse = np.sqrt(mse)\n",
    "    \n",
    "    return rmse"
   ]
  },
  {
   "cell_type": "code",
   "execution_count": 17,
   "id": "eb895213",
   "metadata": {},
   "outputs": [
    {
     "name": "stdout",
     "output_type": "stream",
     "text": [
      "### iteration step :  0  rmse :  3.2388050277987723\n",
      "### iteration step :  50  rmse :  0.4876723101369648\n",
      "### iteration step :  100  rmse :  0.1564340384819247\n",
      "### iteration step :  150  rmse :  0.07455141311978046\n",
      "### iteration step :  200  rmse :  0.04325226798579314\n",
      "### iteration step :  250  rmse :  0.029248328780878973\n",
      "### iteration step :  300  rmse :  0.022621116143829466\n",
      "### iteration step :  350  rmse :  0.019493636196525135\n",
      "### iteration step :  400  rmse :  0.018022719092132704\n",
      "### iteration step :  450  rmse :  0.01731968595344266\n",
      "### iteration step :  500  rmse :  0.016973657887570753\n",
      "### iteration step :  550  rmse :  0.016796804595895633\n",
      "### iteration step :  600  rmse :  0.01670132290188466\n",
      "### iteration step :  650  rmse :  0.01664473691247669\n",
      "### iteration step :  700  rmse :  0.016605910068210026\n",
      "### iteration step :  750  rmse :  0.016574200475705\n",
      "### iteration step :  800  rmse :  0.01654431582921597\n",
      "### iteration step :  850  rmse :  0.01651375177473524\n",
      "### iteration step :  900  rmse :  0.01648146573819501\n",
      "### iteration step :  950  rmse :  0.016447171683479155\n"
     ]
    }
   ],
   "source": [
    "# SGD 기반으로 행렬 분해 수행하기\n",
    "# R>0 인 행 위치, 열 위치, 값을 non_zeros 리스트에 저장\n",
    "non_zeros = [ (i, j, R[i,j]) for i in range(num_users) for j in range(num_items) if R[i,j] > 0 ]\n",
    " \n",
    "steps=1000\n",
    "learning_rate=0.01\n",
    "r_lambda=0.01\n",
    " \n",
    "# SGD 기법으로 P와 Q 매트릭스를 계속 업데이트.\n",
    "for step in range(steps):\n",
    "    for i, j, r in non_zeros:\n",
    "        # 실제 값과 예측 값의 차이인 오류 값 구함\n",
    "        eij = r - np.dot(P[i, :], Q[j, :].T)\n",
    "        # Regularization을 반영한 SGD 업데이트 공식 적용\n",
    "        P[i,:] = P[i,:] + learning_rate*(eij * Q[j, :] - r_lambda*P[i,:])\n",
    "        Q[j,:] = Q[j,:] + learning_rate*(eij * P[i, :] - r_lambda*Q[j,:])\n",
    " \n",
    "    rmse = get_rmse(R, P, Q, non_zeros)\n",
    "    if (step % 50) == 0 :\n",
    "        print(\"### iteration step : \", step,\" rmse : \", rmse)\n"
   ]
  },
  {
   "cell_type": "code",
   "execution_count": 18,
   "id": "39c53cae",
   "metadata": {},
   "outputs": [
    {
     "name": "stdout",
     "output_type": "stream",
     "text": [
      "예측행렬:\n",
      " [[3.991 0.897 1.306 2.002 1.663]\n",
      " [6.696 4.978 0.979 2.981 1.003]\n",
      " [6.677 0.391 2.987 3.977 3.986]\n",
      " [4.968 2.005 1.006 2.017 1.14 ]]\n"
     ]
    }
   ],
   "source": [
    "# 분해된 P와 Q로 예측행렬 출력\n",
    "pred_matrix=np.dot(P,Q.T)\n",
    "print('예측행렬:\\n',np.round(pred_matrix,3))"
   ]
  }
 ],
 "metadata": {
  "kernelspec": {
   "display_name": "Python 3 (ipykernel)",
   "language": "python",
   "name": "python3"
  },
  "language_info": {
   "codemirror_mode": {
    "name": "ipython",
    "version": 3
   },
   "file_extension": ".py",
   "mimetype": "text/x-python",
   "name": "python",
   "nbconvert_exporter": "python",
   "pygments_lexer": "ipython3",
   "version": "3.9.13"
  }
 },
 "nbformat": 4,
 "nbformat_minor": 5
}
