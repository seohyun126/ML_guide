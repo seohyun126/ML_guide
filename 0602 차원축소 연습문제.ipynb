{
 "cells": [
  {
   "cell_type": "code",
   "execution_count": 2,
   "metadata": {
    "id": "t-RMDKJB7CyJ"
   },
   "outputs": [],
   "source": [
    "# 데이터 로드\n",
    "from sklearn.datasets import fetch_openml"
   ]
  },
  {
   "cell_type": "code",
   "execution_count": 4,
   "metadata": {},
   "outputs": [],
   "source": [
    "mnist=fetch_openml('mnist_784', version=1)"
   ]
  },
  {
   "cell_type": "code",
   "execution_count": 5,
   "metadata": {
    "id": "itFJcmUSkBrK"
   },
   "outputs": [],
   "source": [
    "# train, test split\n",
    "X_train = mnist['data'][:60000]\n",
    "y_train = mnist['target'][:60000]\n",
    "X_test = mnist['data'][60000:]\n",
    "y_test = mnist['target'][60000:]"
   ]
  },
  {
   "cell_type": "markdown",
   "metadata": {
    "id": "RbkbV_ZWkSPc"
   },
   "source": [
    "* 랜덤포레스트에 적용"
   ]
  },
  {
   "cell_type": "code",
   "execution_count": 6,
   "metadata": {
    "id": "xmeHyXmKkLN1"
   },
   "outputs": [],
   "source": [
    "# 랜덤포레스트에 적용 (n_estimators=10, random_state=42)\n",
    "from sklearn.ensemble import RandomForestClassifier\n",
    "rcf = RandomForestClassifier(n_estimators=10, random_state=42)\n",
    "rcf.fit(X_train,y_train)\n",
    "preds=rcf.predict(X_test)"
   ]
  },
  {
   "cell_type": "code",
   "execution_count": 7,
   "metadata": {
    "id": "WXjOor-jknmH"
   },
   "outputs": [],
   "source": [
    "# 정확도 결과\n",
    "from sklearn.metrics import accuracy_score\n",
    "accuracy=accuracy_score(preds,y_test)"
   ]
  },
  {
   "cell_type": "code",
   "execution_count": 8,
   "metadata": {},
   "outputs": [
    {
     "data": {
      "text/plain": [
       "0.9492"
      ]
     },
     "execution_count": 8,
     "metadata": {},
     "output_type": "execute_result"
    }
   ],
   "source": [
    "accuracy"
   ]
  },
  {
   "cell_type": "markdown",
   "metadata": {
    "id": "yetHtlIxcCcY"
   },
   "source": [
    "# 1. PCA"
   ]
  },
  {
   "cell_type": "markdown",
   "metadata": {
    "id": "Lw4KuER0lAGA"
   },
   "source": [
    "* PCA로 변환한 데이터 세트에 랜덤 포레스트 적용"
   ]
  },
  {
   "cell_type": "code",
   "execution_count": 9,
   "metadata": {
    "id": "1BLMGOa2VQuj"
   },
   "outputs": [],
   "source": [
    "# PCA 라이브러리 불러오기\n",
    "from sklearn.decomposition import PCA"
   ]
  },
  {
   "cell_type": "code",
   "execution_count": 10,
   "metadata": {
    "id": "u_w8te9tlDsr"
   },
   "outputs": [],
   "source": [
    "# PCA 적용 95% : n_components=0.95\n",
    "pca = PCA(n_components=0.95)"
   ]
  },
  {
   "cell_type": "code",
   "execution_count": 12,
   "metadata": {
    "id": "aFezNneClV8u"
   },
   "outputs": [],
   "source": [
    "# PCA 이후 랜덤포레스트 훈련\n",
    "import numpy as np\n",
    "X_train_reduced = pca.fit_transform(X_train)\n",
    "X_test_reduced = pca.transform(X_test)\n",
    "rcf2 = RandomForestClassifier(n_estimators=10, random_state=42)\n",
    "rcf2.fit(X_train_reduced,y_train)\n",
    "preds=rcf2.predict(X_test_reduced)"
   ]
  },
  {
   "cell_type": "code",
   "execution_count": 14,
   "metadata": {
    "id": "PrsoPgs-lzYj"
   },
   "outputs": [
    {
     "data": {
      "text/plain": [
       "0.9009"
      ]
     },
     "execution_count": 14,
     "metadata": {},
     "output_type": "execute_result"
    }
   ],
   "source": [
    "# 정확도 결과 (X_test도 PCA 적용해야합니다.)\n",
    "accuracy_score(y_test,preds)"
   ]
  },
  {
   "cell_type": "markdown",
   "metadata": {
    "id": "A0ZWH3uVb3zW"
   },
   "source": [
    "# 2. LDA"
   ]
  },
  {
   "cell_type": "markdown",
   "metadata": {
    "id": "t-FBfbZ2b94z"
   },
   "source": [
    "- LDA로 변환한 데이터 세트에 랜덤 포레스트 적용"
   ]
  },
  {
   "cell_type": "code",
   "execution_count": 15,
   "metadata": {
    "id": "WxQG2ep9VCo4"
   },
   "outputs": [],
   "source": [
    "# LDA 라이브러리 불러오기\n",
    "from sklearn.discriminant_analysis import LinearDiscriminantAnalysis"
   ]
  },
  {
   "cell_type": "code",
   "execution_count": 16,
   "metadata": {
    "id": "SYvLRl5qYTsn"
   },
   "outputs": [],
   "source": [
    "# LDA 적용 : n_components=5\n",
    "lda = LinearDiscriminantAnalysis(n_components=5)"
   ]
  },
  {
   "cell_type": "code",
   "execution_count": 19,
   "metadata": {
    "id": "xggC9VrVZO3f"
   },
   "outputs": [
    {
     "data": {
      "text/plain": [
       "RandomForestClassifier(n_estimators=10, random_state=42)"
      ]
     },
     "execution_count": 19,
     "metadata": {},
     "output_type": "execute_result"
    }
   ],
   "source": [
    "# LDA 이후 랜덤포레스트 훈련\n",
    "lda.fit(X_train,y_train)\n",
    "X_lda=lda.transform(X_train)\n",
    "rcf3 = RandomForestClassifier(n_estimators=10, random_state=42)\n",
    "rcf3.fit(X_lda,y_train)"
   ]
  },
  {
   "cell_type": "code",
   "execution_count": 20,
   "metadata": {
    "id": "_oVckjoyY4Ly"
   },
   "outputs": [],
   "source": [
    "# 정확도 결과 (X_test도 LDA 적용해야합니다.)\n",
    "X2_lda=lda.transform(X_test)\n",
    "preds=rcf3.predict(X2_lda)"
   ]
  },
  {
   "cell_type": "code",
   "execution_count": 21,
   "metadata": {},
   "outputs": [
    {
     "data": {
      "text/plain": [
       "0.8291"
      ]
     },
     "execution_count": 21,
     "metadata": {},
     "output_type": "execute_result"
    }
   ],
   "source": [
    "accuracy_score(y_test,preds)"
   ]
  }
 ],
 "metadata": {
  "colab": {
   "provenance": []
  },
  "kernelspec": {
   "display_name": "Python 3 (ipykernel)",
   "language": "python",
   "name": "python3"
  },
  "language_info": {
   "codemirror_mode": {
    "name": "ipython",
    "version": 3
   },
   "file_extension": ".py",
   "mimetype": "text/x-python",
   "name": "python",
   "nbconvert_exporter": "python",
   "pygments_lexer": "ipython3",
   "version": "3.9.13"
  }
 },
 "nbformat": 4,
 "nbformat_minor": 1
}
