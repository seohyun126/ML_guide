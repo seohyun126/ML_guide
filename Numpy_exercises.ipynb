{
 "cells": [
  {
   "cell_type": "markdown",
   "id": "bf79c78b",
   "metadata": {
    "id": "bf79c78b"
   },
   "source": [
    "# Numpy exercises\n",
    "\n",
    "This is a collection of exercises that have been collected in the numpy mailing list, on stack overflow\n",
    "and in the numpy documentation. The goal of this collection is to offer a quick reference for both old\n",
    "and new users but also to provide a set of exercises for those who teach.\n",
    "\n",
    "\n",
    "If you find an error or think you've a better way to solve some of them, feel\n",
    "free to open an issue at <https://github.com/rougier/numpy-100>."
   ]
  },
  {
   "cell_type": "markdown",
   "id": "8536e059",
   "metadata": {
    "id": "8536e059"
   },
   "source": [
    "File automatically generated. See the documentation to update questions/answers/hints programmatically."
   ]
  },
  {
   "cell_type": "markdown",
   "id": "017db353",
   "metadata": {
    "id": "017db353"
   },
   "source": [
    "#### 1. Import the numpy package under the name `np` (★☆☆)"
   ]
  },
  {
   "cell_type": "code",
   "execution_count": 1,
   "id": "68182a76",
   "metadata": {
    "id": "68182a76"
   },
   "outputs": [],
   "source": [
    "import numpy as np"
   ]
  },
  {
   "cell_type": "markdown",
   "id": "46950f4f",
   "metadata": {
    "id": "46950f4f"
   },
   "source": [
    "#### 2. Print the numpy version and the configuration (★☆☆)"
   ]
  },
  {
   "cell_type": "code",
   "execution_count": 70,
   "id": "2a9f5838",
   "metadata": {
    "id": "2a9f5838"
   },
   "outputs": [
    {
     "name": "stdout",
     "output_type": "stream",
     "text": [
      "1.21.5\n",
      "blas_mkl_info:\n",
      "    libraries = ['mkl_rt']\n",
      "    library_dirs = ['C:/Users/MYCOM/anaconda3\\\\Library\\\\lib']\n",
      "    define_macros = [('SCIPY_MKL_H', None), ('HAVE_CBLAS', None)]\n",
      "    include_dirs = ['C:/Users/MYCOM/anaconda3\\\\Library\\\\include']\n",
      "blas_opt_info:\n",
      "    libraries = ['mkl_rt']\n",
      "    library_dirs = ['C:/Users/MYCOM/anaconda3\\\\Library\\\\lib']\n",
      "    define_macros = [('SCIPY_MKL_H', None), ('HAVE_CBLAS', None)]\n",
      "    include_dirs = ['C:/Users/MYCOM/anaconda3\\\\Library\\\\include']\n",
      "lapack_mkl_info:\n",
      "    libraries = ['mkl_rt']\n",
      "    library_dirs = ['C:/Users/MYCOM/anaconda3\\\\Library\\\\lib']\n",
      "    define_macros = [('SCIPY_MKL_H', None), ('HAVE_CBLAS', None)]\n",
      "    include_dirs = ['C:/Users/MYCOM/anaconda3\\\\Library\\\\include']\n",
      "lapack_opt_info:\n",
      "    libraries = ['mkl_rt']\n",
      "    library_dirs = ['C:/Users/MYCOM/anaconda3\\\\Library\\\\lib']\n",
      "    define_macros = [('SCIPY_MKL_H', None), ('HAVE_CBLAS', None)]\n",
      "    include_dirs = ['C:/Users/MYCOM/anaconda3\\\\Library\\\\include']\n",
      "Supported SIMD extensions in this NumPy install:\n",
      "    baseline = SSE,SSE2,SSE3\n",
      "    found = SSSE3,SSE41,POPCNT,SSE42,AVX,F16C,FMA3,AVX2\n",
      "    not found = AVX512F,AVX512CD,AVX512_SKX,AVX512_CLX,AVX512_CNL\n",
      "None\n"
     ]
    }
   ],
   "source": [
    "print(np.__version__)\n",
    "print(np.show_config())"
   ]
  },
  {
   "cell_type": "markdown",
   "id": "e3c20b3d",
   "metadata": {
    "id": "e3c20b3d"
   },
   "source": [
    "#### 3. Create a null vector of size 10 (★☆☆)"
   ]
  },
  {
   "cell_type": "code",
   "execution_count": 2,
   "id": "8a758bcf",
   "metadata": {
    "id": "8a758bcf"
   },
   "outputs": [
    {
     "name": "stdout",
     "output_type": "stream",
     "text": [
      "[0. 0. 0. 0. 0. 0. 0. 0. 0. 0.]\n",
      "(10,)\n"
     ]
    }
   ],
   "source": [
    "array1=np.zeros((10,))\n",
    "print(array1)\n",
    "print(array1.shape)"
   ]
  },
  {
   "cell_type": "markdown",
   "id": "b15a879f",
   "metadata": {
    "id": "b15a879f"
   },
   "source": [
    "#### 4. How to find the memory size of any array (★☆☆)"
   ]
  },
  {
   "cell_type": "code",
   "execution_count": 71,
   "id": "1cc3cbc5",
   "metadata": {
    "id": "1cc3cbc5"
   },
   "outputs": [
    {
     "name": "stdout",
     "output_type": "stream",
     "text": [
      "length : 10 / itemsize : 8 / memorysize : 80 bytes\n"
     ]
    }
   ],
   "source": [
    "Z=np.zeros(10)\n",
    "print(\"length : %d / itemsize : %d / memorysize : %d bytes\" % (Z.size  , Z.itemsize ,Z.size*Z.itemsize))"
   ]
  },
  {
   "cell_type": "markdown",
   "id": "0b16cd77",
   "metadata": {
    "id": "0b16cd77"
   },
   "source": [
    "#### 5. Create a null vector of size 10 but the fifth value which is 1 (★☆☆)"
   ]
  },
  {
   "cell_type": "code",
   "execution_count": 72,
   "id": "4d9b5975",
   "metadata": {
    "id": "4d9b5975"
   },
   "outputs": [
    {
     "name": "stdout",
     "output_type": "stream",
     "text": [
      "[0. 0. 0. 0. 1. 0. 0. 0. 0. 0.]\n"
     ]
    }
   ],
   "source": [
    "array1=np.zeros((10,))\n",
    "array1[4]=1\n",
    "print(array1)"
   ]
  },
  {
   "cell_type": "markdown",
   "id": "782d4c77",
   "metadata": {
    "id": "782d4c77"
   },
   "source": [
    "#### 6. Create a vector with values ranging from 10 to 49 (★☆☆)"
   ]
  },
  {
   "cell_type": "code",
   "execution_count": 7,
   "id": "5dbe1a08",
   "metadata": {
    "id": "5dbe1a08"
   },
   "outputs": [
    {
     "name": "stdout",
     "output_type": "stream",
     "text": [
      "[10 11 12 13 14 15 16 17 18 19 20 21 22 23 24 25 26 27 28 29 30 31 32 33\n",
      " 34 35 36 37 38 39 40 41 42 43 44 45 46 47 48 49]\n"
     ]
    }
   ],
   "source": [
    "array2=np.arange(start=10,stop=50)\n",
    "print(array2)"
   ]
  },
  {
   "cell_type": "markdown",
   "id": "48d48f01",
   "metadata": {
    "id": "48d48f01"
   },
   "source": [
    "#### 7. Reverse a vector (first element becomes last) (★☆☆)"
   ]
  },
  {
   "cell_type": "code",
   "execution_count": 10,
   "id": "3ed233e7",
   "metadata": {
    "id": "3ed233e7"
   },
   "outputs": [
    {
     "name": "stdout",
     "output_type": "stream",
     "text": [
      "[9 8 7 6 5 4 3 2 1 0]\n"
     ]
    }
   ],
   "source": [
    "array3=np.arange(10)\n",
    "sortarray3=np.sort(array3)[::-1]\n",
    "print(sortarray3)"
   ]
  },
  {
   "cell_type": "markdown",
   "id": "4fa39382",
   "metadata": {
    "id": "4fa39382"
   },
   "source": [
    "#### 8. Create a 3x3 matrix with values ranging from 0 to 8 (★☆☆)"
   ]
  },
  {
   "cell_type": "code",
   "execution_count": 11,
   "id": "c97757ec",
   "metadata": {
    "id": "c97757ec"
   },
   "outputs": [
    {
     "name": "stdout",
     "output_type": "stream",
     "text": [
      "[[0 1 2]\n",
      " [3 4 5]\n",
      " [6 7 8]]\n"
     ]
    }
   ],
   "source": [
    "array=np.arange(9)\n",
    "array2d=array.reshape(3,3)\n",
    "print(array2d)"
   ]
  },
  {
   "cell_type": "markdown",
   "id": "da64551a",
   "metadata": {
    "id": "da64551a"
   },
   "source": [
    "#### 9. Find indices of non-zero elements from [1,2,0,0,4,0] (★☆☆)"
   ]
  },
  {
   "cell_type": "code",
   "execution_count": 61,
   "id": "327f7adb",
   "metadata": {
    "id": "327f7adb"
   },
   "outputs": [
    {
     "name": "stdout",
     "output_type": "stream",
     "text": [
      "[1 2 4]\n"
     ]
    }
   ],
   "source": [
    "array1d=np.array([1,2,0,0,4,0])\n",
    "array2=array1d[array1d!=0]\n",
    "print(array2)"
   ]
  },
  {
   "cell_type": "markdown",
   "id": "f89d9c9e",
   "metadata": {
    "id": "f89d9c9e"
   },
   "source": [
    "#### 10. Create a 3x3 identity matrix (★☆☆)\n",
    "Hint : identity & eye, try to use 'help' to learn how to use two functions of numpy"
   ]
  },
  {
   "cell_type": "code",
   "execution_count": 74,
   "id": "ba625832",
   "metadata": {
    "id": "ba625832"
   },
   "outputs": [
    {
     "name": "stdout",
     "output_type": "stream",
     "text": [
      "[[1. 0. 0.]\n",
      " [0. 1. 0.]\n",
      " [0. 0. 1.]]\n"
     ]
    }
   ],
   "source": [
    "array1=np.identity(3)\n",
    "print(array1)"
   ]
  },
  {
   "cell_type": "markdown",
   "id": "7e44c6fa",
   "metadata": {
    "id": "7e44c6fa"
   },
   "source": [
    "#### 11. Create a 3x3x3 array with random values (★☆☆)\n",
    "Hint : numpy.random.random"
   ]
  },
  {
   "cell_type": "code",
   "execution_count": 79,
   "id": "1cb3dddf",
   "metadata": {
    "id": "1cb3dddf",
    "scrolled": true
   },
   "outputs": [
    {
     "name": "stdout",
     "output_type": "stream",
     "text": [
      "[[[0.45963825 0.92244026 0.48489196]\n",
      "  [0.83542839 0.12069582 0.56252548]\n",
      "  [0.4073132  0.67205979 0.19682339]]\n",
      "\n",
      " [[0.5092609  0.81574584 0.50589151]\n",
      "  [0.86811884 0.10618083 0.43997123]\n",
      "  [0.14906122 0.89686138 0.53000275]]\n",
      "\n",
      " [[0.26154554 0.62112258 0.62391776]\n",
      "  [0.72742024 0.78292947 0.90925418]\n",
      "  [0.39345548 0.1053197  0.28438668]]]\n"
     ]
    }
   ],
   "source": [
    "array1=np.random.random((3,3,3))\n",
    "print(array1)"
   ]
  },
  {
   "cell_type": "markdown",
   "id": "13c5928c",
   "metadata": {
    "id": "13c5928c"
   },
   "source": [
    "#### 12. Create a 10x10 array with random values and find the **min**imum and **max**imum values (★☆☆)"
   ]
  },
  {
   "cell_type": "code",
   "execution_count": 64,
   "id": "911c9b93",
   "metadata": {
    "id": "911c9b93"
   },
   "outputs": [
    {
     "name": "stdout",
     "output_type": "stream",
     "text": [
      "0.12410955679449609\n",
      "9.930689424264505\n"
     ]
    }
   ],
   "source": [
    "array1=np.zeros((10,10))\n",
    "for i in range(10):\n",
    "    for j in range(10):\n",
    "        array1[i][j]=np.random.random()*10\n",
    "\n",
    "\n",
    "print(np.min(array1))\n",
    "print(np.max(array1))"
   ]
  },
  {
   "cell_type": "markdown",
   "id": "3fa2e461",
   "metadata": {
    "id": "3fa2e461"
   },
   "source": [
    "#### 13. Create a random vector of size 30 and find the **mean** value (★☆☆)"
   ]
  },
  {
   "cell_type": "code",
   "execution_count": 87,
   "id": "323eb38a",
   "metadata": {
    "id": "323eb38a"
   },
   "outputs": [
    {
     "name": "stdout",
     "output_type": "stream",
     "text": [
      "[0.72939585 0.75752885 0.4093407  0.88767222 0.99406938 0.90948584\n",
      " 0.8043251  0.58724695 0.48687518 0.62571798 0.21879892 0.29419328\n",
      " 0.84898058 0.55292965 0.12124909 0.47836531 0.76998798 0.59719503\n",
      " 0.72753141 0.77995129 0.1158687  0.82252688 0.67925277 0.43436512\n",
      " 0.65979421 0.58605083 0.07758612 0.72755059 0.01343979 0.72686888]\n",
      "mean: 0.5808048157475233\n"
     ]
    }
   ],
   "source": [
    "array1=np.random.random((30,))\n",
    "\n",
    "print(array1)\n",
    "mean=np.mean(array1)\n",
    "print('mean:',mean)"
   ]
  },
  {
   "cell_type": "markdown",
   "id": "73f7a549",
   "metadata": {
    "id": "73f7a549"
   },
   "source": [
    "#### 14. Create a 2d array with 1 on the border and 0 inside (★☆☆)"
   ]
  },
  {
   "cell_type": "code",
   "execution_count": 82,
   "id": "e3a6807d",
   "metadata": {
    "id": "e3a6807d"
   },
   "outputs": [
    {
     "name": "stdout",
     "output_type": "stream",
     "text": [
      "[[1. 1. 1. 1. 1. 1. 1. 1. 1. 1.]\n",
      " [1. 0. 0. 0. 0. 0. 0. 0. 0. 1.]\n",
      " [1. 0. 0. 0. 0. 0. 0. 0. 0. 1.]\n",
      " [1. 0. 0. 0. 0. 0. 0. 0. 0. 1.]\n",
      " [1. 0. 0. 0. 0. 0. 0. 0. 0. 1.]\n",
      " [1. 0. 0. 0. 0. 0. 0. 0. 0. 1.]\n",
      " [1. 0. 0. 0. 0. 0. 0. 0. 0. 1.]\n",
      " [1. 0. 0. 0. 0. 0. 0. 0. 0. 1.]\n",
      " [1. 0. 0. 0. 0. 0. 0. 0. 0. 1.]\n",
      " [1. 1. 1. 1. 1. 1. 1. 1. 1. 1.]]\n"
     ]
    }
   ],
   "source": [
    "array1=np.ones((10,10))\n",
    "array1[1:-1,1:-1] = 0\n",
    "print(array1)"
   ]
  },
  {
   "cell_type": "markdown",
   "id": "d6ad1a9f",
   "metadata": {
    "id": "d6ad1a9f"
   },
   "source": [
    "#### 15. What is the result of the following expression? (★☆☆)\n",
    "```python\n",
    "0 * np.nan\n",
    "np.nan == np.nan\n",
    "np.inf > np.nan\n",
    "np.nan - np.nan\n",
    "np.nan in set([np.nan])\n",
    "0.3 == 3 * 0.1\n",
    "```"
   ]
  },
  {
   "cell_type": "code",
   "execution_count": 132,
   "id": "ee7ff0f3",
   "metadata": {
    "id": "ee7ff0f3"
   },
   "outputs": [
    {
     "name": "stdout",
     "output_type": "stream",
     "text": [
      "nan\n",
      "False\n",
      "False\n",
      "nan\n",
      "True\n",
      "False\n"
     ]
    }
   ],
   "source": [
    "print(0 * np.nan)\n",
    "print(np.nan == np.nan)\n",
    "print(np.inf > np.nan)\n",
    "print(np.nan - np.nan)\n",
    "print(np.nan in set([np.nan]))\n",
    "print(0.3 == 3 * 0.1)"
   ]
  },
  {
   "cell_type": "markdown",
   "id": "e3a7ba7f",
   "metadata": {
    "id": "e3a7ba7f"
   },
   "source": [
    "#### 16. Create a 5x5 matrix with values 1,2,3,4 just below the **diag**onal (★☆☆)"
   ]
  },
  {
   "cell_type": "code",
   "execution_count": 96,
   "id": "01d8e257",
   "metadata": {
    "id": "01d8e257"
   },
   "outputs": [
    {
     "name": "stdout",
     "output_type": "stream",
     "text": [
      "[[0. 0. 0. 0. 0.]\n",
      " [1. 0. 0. 0. 0.]\n",
      " [0. 2. 0. 0. 0.]\n",
      " [0. 0. 3. 0. 0.]\n",
      " [0. 0. 0. 4. 0.]]\n"
     ]
    }
   ],
   "source": [
    "array1=np.zeros((5,5))\n",
    "for i in range(5):\n",
    "    for j in range(5):\n",
    "        if (i-j)==1:\n",
    "            array1[i][j]=i\n",
    "print(array1)"
   ]
  },
  {
   "cell_type": "markdown",
   "id": "6d17ab5d",
   "metadata": {
    "id": "6d17ab5d"
   },
   "source": [
    "#### 17. Create a 8x8 matrix and fill it with a checkerboard pattern (★☆☆)"
   ]
  },
  {
   "cell_type": "code",
   "execution_count": 98,
   "id": "841373cd",
   "metadata": {
    "id": "841373cd"
   },
   "outputs": [
    {
     "name": "stdout",
     "output_type": "stream",
     "text": [
      "[[2. 0. 2. 0. 2. 0. 2. 0.]\n",
      " [0. 2. 0. 2. 0. 2. 0. 2.]\n",
      " [2. 0. 2. 0. 2. 0. 2. 0.]\n",
      " [0. 2. 0. 2. 0. 2. 0. 2.]\n",
      " [2. 0. 2. 0. 2. 0. 2. 0.]\n",
      " [0. 2. 0. 2. 0. 2. 0. 2.]\n",
      " [2. 0. 2. 0. 2. 0. 2. 0.]\n",
      " [0. 2. 0. 2. 0. 2. 0. 2.]]\n"
     ]
    }
   ],
   "source": [
    "array1=np.zeros((8,8))\n",
    "for i in range(8):\n",
    "    for j in range(8):\n",
    "        if (i+j)%2==0:\n",
    "            array1[i][j]=2\n",
    "print(array1)"
   ]
  },
  {
   "cell_type": "code",
   "execution_count": 133,
   "id": "0f2ef8f4",
   "metadata": {},
   "outputs": [
    {
     "name": "stdout",
     "output_type": "stream",
     "text": [
      "[[0. 1. 0. 1. 0. 1. 0. 1.]\n",
      " [1. 0. 1. 0. 1. 0. 1. 0.]\n",
      " [0. 1. 0. 1. 0. 1. 0. 1.]\n",
      " [1. 0. 1. 0. 1. 0. 1. 0.]\n",
      " [0. 1. 0. 1. 0. 1. 0. 1.]\n",
      " [1. 0. 1. 0. 1. 0. 1. 0.]\n",
      " [0. 1. 0. 1. 0. 1. 0. 1.]\n",
      " [1. 0. 1. 0. 1. 0. 1. 0.]]\n"
     ]
    }
   ],
   "source": [
    "array17 = np.zeros((8, 8))\n",
    "array17[1::2, ::2] = 1\n",
    "array17[::2, 1::2] = 1\n",
    "print (array17)\n",
    "##또다른방법"
   ]
  },
  {
   "cell_type": "markdown",
   "id": "8837119b",
   "metadata": {
    "id": "8837119b"
   },
   "source": [
    "#### 18. Consider a (6,7,8) shape array, what is the index (x,y,z) of the 100th element? (★☆☆)\n",
    "Hint : use 'numpy.unravel_index(value, (x, y, z))"
   ]
  },
  {
   "cell_type": "code",
   "execution_count": 105,
   "id": "2c0d16f1",
   "metadata": {
    "id": "2c0d16f1"
   },
   "outputs": [
    {
     "name": "stdout",
     "output_type": "stream",
     "text": [
      "(1, 5, 4)\n"
     ]
    }
   ],
   "source": [
    "array18=np.unravel_index(100, (6,7,8))\n",
    "print(array18)"
   ]
  },
  {
   "cell_type": "markdown",
   "id": "391791e0",
   "metadata": {
    "id": "391791e0"
   },
   "source": [
    "#### 19. Normalize a 5x5 random matrix (★☆☆)\n",
    "Hint : $Z = \\frac{X - \\overline{X}}{S}$"
   ]
  },
  {
   "cell_type": "code",
   "execution_count": 110,
   "id": "f6533d39",
   "metadata": {
    "id": "f6533d39"
   },
   "outputs": [
    {
     "name": "stdout",
     "output_type": "stream",
     "text": [
      "[[ 5.71354603 12.17671279 11.36346149 15.70395138  0.54912033]\n",
      " [13.98743477  0.65871308  4.19544238  4.16556507  1.20611567]\n",
      " [11.41342411 14.04955584  0.30865065  6.73700364  2.08406989]\n",
      " [10.26264133 13.61314189 19.84057952  0.88368141  1.63933505]\n",
      " [12.30090547 13.41142567 13.52895025  5.23117717 11.22027103]]\n",
      "\n",
      "\n",
      "[[ -1.06105776   1.12534782   0.92366985   1.88102266 -10.39190142]\n",
      " [  1.53413733  -9.35309908  -1.97939579  -2.00112043  -6.41364766]\n",
      " [  0.93643488   1.54731518 -14.29385905  -0.58283504  -4.27098475]\n",
      " [  0.62832022   1.45363944   2.60216993  -7.8359301   -5.1629488 ]\n",
      " [  1.15506265   1.40944927   1.43526595  -1.31980091   0.88679732]]\n"
     ]
    }
   ],
   "source": [
    "array19=np.random.random((5,5))*20\n",
    "print(array19)\n",
    "mean = np.mean(array19)\n",
    "sd = np.sqrt(array19)\n",
    "print('\\n')\n",
    "print((array19 - mean) / sd)"
   ]
  },
  {
   "cell_type": "markdown",
   "id": "1e74d39e",
   "metadata": {
    "id": "1e74d39e"
   },
   "source": [
    "#### 20. Create a custom dtype that describes a color as four unsigned bytes (RGBA) (★☆☆)\n",
    "Hint : modify the code below\n",
    "```python\n",
    "numpy.dtype([(value, numpy.ubyte), … , (value, numpy.ubyte)])\n",
    "```"
   ]
  },
  {
   "cell_type": "code",
   "execution_count": 115,
   "id": "3f639d33",
   "metadata": {
    "id": "3f639d33"
   },
   "outputs": [
    {
     "name": "stdout",
     "output_type": "stream",
     "text": [
      "[('r', 'u1'), ('g', 'u1'), ('b', 'u1'), ('a', 'u1')]\n"
     ]
    }
   ],
   "source": [
    "color = np.dtype([(\"r\", np.ubyte),(\"g\", np.ubyte),(\"b\", np.ubyte),(\"a\", np.ubyte)])\n",
    "print(color)"
   ]
  },
  {
   "cell_type": "markdown",
   "id": "78250c14",
   "metadata": {
    "id": "78250c14"
   },
   "source": [
    "#### 21. Multiply a 5x3 matrix by a 3x2 matrix (real matrix product) (★☆☆)"
   ]
  },
  {
   "cell_type": "code",
   "execution_count": 56,
   "id": "9fe729cb",
   "metadata": {
    "id": "9fe729cb"
   },
   "outputs": [
    {
     "name": "stdout",
     "output_type": "stream",
     "text": [
      "[[ 10  13]\n",
      " [ 28  40]\n",
      " [ 46  67]\n",
      " [ 64  94]\n",
      " [ 82 121]]\n"
     ]
    }
   ],
   "source": [
    "array1=np.arange(15)\n",
    "array1=array1.reshape(5,3)\n",
    "array2=np.arange(6)\n",
    "array2=array2.reshape(3,2)\n",
    "print(np.dot(array1,array2))"
   ]
  },
  {
   "cell_type": "markdown",
   "id": "51898680",
   "metadata": {
    "id": "51898680"
   },
   "source": [
    "#### 22. Given a 1D array, negate all elements which are between 3 and 8, in place. (★☆☆)"
   ]
  },
  {
   "cell_type": "code",
   "execution_count": 117,
   "id": "51c90f2d",
   "metadata": {
    "id": "51c90f2d"
   },
   "outputs": [
    {
     "name": "stdout",
     "output_type": "stream",
     "text": [
      "[ 0  1  2  3 -4 -5 -6 -7  8  9]\n"
     ]
    }
   ],
   "source": [
    "array22=np.arange(10)\n",
    "array22[(3 < array22) & (array22 <8)] *= -1\n",
    "print(array22)"
   ]
  },
  {
   "cell_type": "markdown",
   "id": "89e78048",
   "metadata": {
    "id": "89e78048"
   },
   "source": [
    "#### 23. What is the output of the following script? (★☆☆)\n",
    "```python\n",
    "# Author: Jake VanderPlas\n",
    "\n",
    "print(sum(range(5),-1))\n",
    "from numpy import *\n",
    "print(sum(range(5),-1))\n",
    "```"
   ]
  },
  {
   "cell_type": "code",
   "execution_count": 118,
   "id": "b62e9d1c",
   "metadata": {
    "id": "b62e9d1c"
   },
   "outputs": [
    {
     "name": "stdout",
     "output_type": "stream",
     "text": [
      "9\n",
      "10\n"
     ]
    }
   ],
   "source": [
    "print(sum(range(5),-1))\n",
    "from numpy import *\n",
    "print(sum(range(5),-1))"
   ]
  },
  {
   "cell_type": "markdown",
   "id": "ebd10810",
   "metadata": {
    "id": "ebd10810"
   },
   "source": [
    "#### 24. Consider an integer vector Z, which of these expressions are legal? (★☆☆)\n",
    "```python\n",
    "Z**Z\n",
    "2 << Z >> 2\n",
    "Z <- Z\n",
    "1j*Z\n",
    "Z/1/1\n",
    "Z<Z>Z\n",
    "```"
   ]
  },
  {
   "cell_type": "code",
   "execution_count": 130,
   "id": "8419687a",
   "metadata": {},
   "outputs": [
    {
     "name": "stdout",
     "output_type": "stream",
     "text": [
      "[ 1  1  4 27]\n",
      "[0 1 2 4]\n",
      "[False False False False]\n",
      "[0.+0.j 0.+1.j 0.+2.j 0.+3.j]\n",
      "[0. 1. 2. 3.]\n"
     ]
    },
    {
     "ename": "ValueError",
     "evalue": "The truth value of an array with more than one element is ambiguous. Use a.any() or a.all()",
     "output_type": "error",
     "traceback": [
      "\u001b[1;31m---------------------------------------------------------------------------\u001b[0m",
      "\u001b[1;31mValueError\u001b[0m                                Traceback (most recent call last)",
      "\u001b[1;32m~\\AppData\\Local\\Temp\\ipykernel_20668\\3426475647.py\u001b[0m in \u001b[0;36m<module>\u001b[1;34m\u001b[0m\n\u001b[0;32m      5\u001b[0m \u001b[0mprint\u001b[0m\u001b[1;33m(\u001b[0m\u001b[1;36m1j\u001b[0m\u001b[1;33m*\u001b[0m\u001b[0mZ\u001b[0m\u001b[1;33m)\u001b[0m\u001b[1;33m\u001b[0m\u001b[1;33m\u001b[0m\u001b[0m\n\u001b[0;32m      6\u001b[0m \u001b[0mprint\u001b[0m\u001b[1;33m(\u001b[0m\u001b[0mZ\u001b[0m\u001b[1;33m/\u001b[0m\u001b[1;36m1\u001b[0m\u001b[1;33m/\u001b[0m\u001b[1;36m1\u001b[0m\u001b[1;33m)\u001b[0m\u001b[1;33m\u001b[0m\u001b[1;33m\u001b[0m\u001b[0m\n\u001b[1;32m----> 7\u001b[1;33m \u001b[0mprint\u001b[0m\u001b[1;33m(\u001b[0m\u001b[0mZ\u001b[0m\u001b[1;33m<\u001b[0m\u001b[0mZ\u001b[0m\u001b[1;33m>\u001b[0m\u001b[0mZ\u001b[0m\u001b[1;33m)\u001b[0m\u001b[1;33m\u001b[0m\u001b[1;33m\u001b[0m\u001b[0m\n\u001b[0m",
      "\u001b[1;31mValueError\u001b[0m: The truth value of an array with more than one element is ambiguous. Use a.any() or a.all()"
     ]
    }
   ],
   "source": [
    "Z = np.arange(4)\n",
    "print(Z**Z)\n",
    "print(2 << Z >> 2)\n",
    "print(Z <- Z)\n",
    "print(1j*Z)\n",
    "print(Z/1/1)\n",
    "print(Z<Z>Z)"
   ]
  },
  {
   "cell_type": "markdown",
   "id": "c0e940f8",
   "metadata": {
    "id": "c0e940f8"
   },
   "source": [
    "#### 25. What are the result of the following expressions? (★☆☆)\n",
    "```python\n",
    "np.array(0) / np.array(0)\n",
    "np.array(0) // np.array(0)\n",
    "np.array([np.nan]).astype(int).astype(float)\n",
    "```"
   ]
  },
  {
   "cell_type": "code",
   "execution_count": 2,
   "id": "820dc7a5",
   "metadata": {
    "id": "820dc7a5"
   },
   "outputs": [
    {
     "name": "stdout",
     "output_type": "stream",
     "text": [
      "nan\n",
      "0\n",
      "[-2.14748365e+09]\n"
     ]
    },
    {
     "name": "stderr",
     "output_type": "stream",
     "text": [
      "C:\\Users\\MYCOM\\AppData\\Local\\Temp\\ipykernel_20572\\3912170336.py:1: RuntimeWarning: invalid value encountered in true_divide\n",
      "  print(np.array(0) / np.array(0))\n",
      "C:\\Users\\MYCOM\\AppData\\Local\\Temp\\ipykernel_20572\\3912170336.py:2: RuntimeWarning: divide by zero encountered in floor_divide\n",
      "  print(np.array(0) // np.array(0))\n"
     ]
    }
   ],
   "source": [
    "print(np.array(0) / np.array(0))\n",
    "print(np.array(0) // np.array(0))\n",
    "print(np.array([np.nan]).astype(int).astype(float))"
   ]
  },
  {
   "cell_type": "markdown",
   "id": "f1ae2c2d",
   "metadata": {
    "id": "f1ae2c2d"
   },
   "source": [
    "#### 26. How to find common values between two arrays? (★☆☆)\n",
    "```python\n",
    "Z1 = np.random.randint(0,10,10)\n",
    "Z2 = np.random.randint(0,10,10)\n",
    "```\n",
    "Hint : use `numpy.random.randint(start, end, size)`"
   ]
  },
  {
   "cell_type": "code",
   "execution_count": 92,
   "id": "6801c73d",
   "metadata": {
    "id": "6801c73d"
   },
   "outputs": [
    {
     "name": "stdout",
     "output_type": "stream",
     "text": [
      "[6 6 7 2 7 3 4 1 7 9]\n",
      "[9 8 8 9 8 9 5 5 7 1]\n",
      "[1, 7, 9]\n",
      "True\n"
     ]
    }
   ],
   "source": [
    "Z1 = np.random.randint(0,10,10)\n",
    "print(Z1)\n",
    "Z2 = np.random.randint(0,10,10)\n",
    "print(Z2)\n",
    "emptyList=[]\n",
    "for i in range(10):\n",
    "    if i in Z1 and i in Z2:\n",
    "        emptyList.append(i)\n",
    "print(emptyList)\n",
    "print(1 in Z1)"
   ]
  },
  {
   "cell_type": "code",
   "execution_count": null,
   "id": "afc44d4c",
   "metadata": {},
   "outputs": [],
   "source": [
    "Z1 = np.random.randint(0,10,10)\n",
    "Z2 = np.random.randint(0,10,10)\n"
   ]
  },
  {
   "cell_type": "markdown",
   "id": "37bc0973",
   "metadata": {
    "id": "37bc0973"
   },
   "source": [
    "#### 27. Is the following expressions true? (★☆☆)\n",
    "```python\n",
    "np.sqrt(-1) == np.emath.sqrt(-1)\n",
    "```"
   ]
  },
  {
   "cell_type": "code",
   "execution_count": 12,
   "id": "c70cbabe",
   "metadata": {
    "id": "c70cbabe"
   },
   "outputs": [
    {
     "name": "stderr",
     "output_type": "stream",
     "text": [
      "C:\\Users\\MYCOM\\AppData\\Local\\Temp\\ipykernel_20572\\3438155168.py:1: RuntimeWarning: invalid value encountered in sqrt\n",
      "  np.sqrt(-1)\n"
     ]
    },
    {
     "data": {
      "text/plain": [
       "nan"
      ]
     },
     "execution_count": 12,
     "metadata": {},
     "output_type": "execute_result"
    }
   ],
   "source": [
    "np.sqrt(-1)"
   ]
  },
  {
   "cell_type": "code",
   "execution_count": 13,
   "id": "3ccf1ed6",
   "metadata": {},
   "outputs": [
    {
     "data": {
      "text/plain": [
       "1j"
      ]
     },
     "execution_count": 13,
     "metadata": {},
     "output_type": "execute_result"
    }
   ],
   "source": [
    "np.emath.sqrt(-1)"
   ]
  },
  {
   "cell_type": "code",
   "execution_count": 14,
   "id": "uFZqYO0BxrKi",
   "metadata": {
    "id": "uFZqYO0BxrKi"
   },
   "outputs": [],
   "source": [
    "import numpy as np"
   ]
  },
  {
   "cell_type": "markdown",
   "id": "42f8b2f9",
   "metadata": {
    "id": "42f8b2f9"
   },
   "source": [
    "#### 28. How to get all the dates corresponding to the month of July 2016? (★★☆)\n",
    "Hint : modify the code below\n",
    "```python\n",
    "Z = np.arange('start', 'end', dtype='datetime64[D]')\n",
    "```"
   ]
  },
  {
   "cell_type": "code",
   "execution_count": 17,
   "id": "3kkl01x3x0NF",
   "metadata": {
    "id": "3kkl01x3x0NF"
   },
   "outputs": [
    {
     "name": "stdout",
     "output_type": "stream",
     "text": [
      "['2016-06-01' '2016-06-02' '2016-06-03' '2016-06-04' '2016-06-05'\n",
      " '2016-06-06' '2016-06-07' '2016-06-08' '2016-06-09' '2016-06-10'\n",
      " '2016-06-11' '2016-06-12' '2016-06-13' '2016-06-14' '2016-06-15'\n",
      " '2016-06-16' '2016-06-17' '2016-06-18' '2016-06-19' '2016-06-20'\n",
      " '2016-06-21' '2016-06-22' '2016-06-23' '2016-06-24' '2016-06-25'\n",
      " '2016-06-26' '2016-06-27' '2016-06-28' '2016-06-29']\n"
     ]
    }
   ],
   "source": [
    "Z = np.arange('2016-06-01', '2016-06-30', dtype='datetime64[D]')\n",
    "print(Z)"
   ]
  },
  {
   "cell_type": "markdown",
   "id": "252c43e2",
   "metadata": {
    "id": "252c43e2"
   },
   "source": [
    "#### 29. How to compute ((A+B)*(-A/2)) in place (without copy)? (★★☆)\n",
    "Hint : use `numpy.add`, `numpy.divide`,`numpy.negative`, `numpy.multiply` and parameter `out` of the funtions"
   ]
  },
  {
   "cell_type": "code",
   "execution_count": 91,
   "id": "f06ff615",
   "metadata": {
    "id": "f06ff615"
   },
   "outputs": [
    {
     "data": {
      "text/plain": [
       "array([-13.12, -14.72])"
      ]
     },
     "execution_count": 91,
     "metadata": {},
     "output_type": "execute_result"
    }
   ],
   "source": [
    "def fun26(A,B):\n",
    "\n",
    "    result=np.multiply(np.add(A,B),np.divide(np.negative(A),2),out=None)\n",
    "    return result\n",
    "\n",
    "fun26([3.2],[5,6])"
   ]
  },
  {
   "cell_type": "markdown",
   "id": "486df8ea",
   "metadata": {
    "id": "486df8ea"
   },
   "source": [
    "#### 30. Extract the integer part of a random array of positive numbers using 2 different methods (★★☆)\n",
    "Hint : `%`, `//`"
   ]
  },
  {
   "cell_type": "code",
   "execution_count": 16,
   "id": "34b4fa08",
   "metadata": {
    "id": "34b4fa08"
   },
   "outputs": [
    {
     "name": "stdout",
     "output_type": "stream",
     "text": [
      "[5.0, 7.0, 9.0]\n"
     ]
    }
   ],
   "source": [
    "def func30(a):\n",
    "    result=[]\n",
    "    for i in range(len(a)):\n",
    "        if a[i]>0:\n",
    "            result.append(a[i]//1)\n",
    "    return result\n",
    "\n",
    "aa=np.array([-3.4,5.6,7.8,9])\n",
    "print(func30(aa))"
   ]
  },
  {
   "cell_type": "code",
   "execution_count": 17,
   "id": "c20257b1",
   "metadata": {},
   "outputs": [
    {
     "name": "stdout",
     "output_type": "stream",
     "text": [
      "[5.0, 7.0, 9.0]\n"
     ]
    }
   ],
   "source": [
    "def func30(a):\n",
    "    result=[]\n",
    "    for i in range(len(a)):\n",
    "        if a[i]>0:\n",
    "            result.append(a[i]-a[i]%1)\n",
    "    return result\n",
    "\n",
    "aa=np.array([-3.4,5.6,7.8,9])\n",
    "print(func30(aa))"
   ]
  },
  {
   "cell_type": "markdown",
   "id": "649e89f9",
   "metadata": {
    "id": "649e89f9"
   },
   "source": [
    "#### 31. Create a 5x5 matrix with row values ranging from 0 to 4 (★★☆)"
   ]
  },
  {
   "cell_type": "code",
   "execution_count": 25,
   "id": "663cc611",
   "metadata": {
    "id": "663cc611"
   },
   "outputs": [
    {
     "name": "stdout",
     "output_type": "stream",
     "text": [
      "[[0. 1. 2. 3. 4.]\n",
      " [0. 1. 2. 3. 4.]\n",
      " [0. 1. 2. 3. 4.]\n",
      " [0. 1. 2. 3. 4.]\n",
      " [0. 1. 2. 3. 4.]]\n"
     ]
    }
   ],
   "source": [
    "np31=np.zeros((5,5))\n",
    "for i in range(1,5):\n",
    "    np31[:,i]=i\n",
    "print(np31)"
   ]
  },
  {
   "cell_type": "code",
   "execution_count": 26,
   "id": "24e10ab4",
   "metadata": {},
   "outputs": [
    {
     "name": "stdout",
     "output_type": "stream",
     "text": [
      "[[0. 1. 2. 3. 4.]\n",
      " [0. 1. 2. 3. 4.]\n",
      " [0. 1. 2. 3. 4.]\n",
      " [0. 1. 2. 3. 4.]\n",
      " [0. 1. 2. 3. 4.]]\n"
     ]
    }
   ],
   "source": [
    "np31_2=np.zeros((5,5))\n",
    "np31_2+=np.arange(5)\n",
    "print(np31_2)"
   ]
  },
  {
   "cell_type": "markdown",
   "id": "2d07be1c",
   "metadata": {
    "id": "2d07be1c"
   },
   "source": [
    "#### 32. Create a random vector of size 10 and sort it (★★☆)"
   ]
  },
  {
   "cell_type": "code",
   "execution_count": 35,
   "id": "4f7cb3ad",
   "metadata": {
    "id": "4f7cb3ad"
   },
   "outputs": [
    {
     "name": "stdout",
     "output_type": "stream",
     "text": [
      "[0.10219113 0.11389939 0.12222699 0.19603426 0.38992517 0.55844685\n",
      " 0.61854709 0.89942576 0.92152634 0.93601134]\n"
     ]
    }
   ],
   "source": [
    "np32=np.random.rand(10)\n",
    "print(np.sort(np32))"
   ]
  },
  {
   "cell_type": "markdown",
   "id": "fe043549",
   "metadata": {
    "id": "fe043549"
   },
   "source": [
    "#### 33. Consider two random array A and B, check if they are equal (★★☆)\n",
    "```python\n",
    "A = np.random.randint(0,2,5)\n",
    "B = np.random.randint(0,2,5)\n",
    "```\n",
    "Hint : Use `numpy.array_equal()`"
   ]
  },
  {
   "cell_type": "code",
   "execution_count": 38,
   "id": "3326a686",
   "metadata": {
    "id": "3326a686"
   },
   "outputs": [
    {
     "name": "stdout",
     "output_type": "stream",
     "text": [
      "[1 1 0 1 0]\n",
      "[1 0 1 1 1]\n"
     ]
    },
    {
     "data": {
      "text/plain": [
       "False"
      ]
     },
     "execution_count": 38,
     "metadata": {},
     "output_type": "execute_result"
    }
   ],
   "source": [
    "A = np.random.randint(0,2,5)\n",
    "B = np.random.randint(0,2,5)\n",
    "print(A)\n",
    "print(B)\n",
    "np.array_equal(A,B)"
   ]
  },
  {
   "cell_type": "markdown",
   "id": "2002cb03",
   "metadata": {
    "id": "2002cb03"
   },
   "source": [
    "#### 34. Consider a random 10x2 matrix representing cartesian coordinates, convert them to polar coordinates (★★☆)\n",
    "Hint 1 : Note that cartesian coodinate **(x, y)** can be represented as  polar coordinates **(distance from origin to (x,y), angle from the x-axis)**\n",
    "\n",
    "Hint 2 : Use `numpy.sqrt` and `numpy.arctan2`"
   ]
  },
  {
   "cell_type": "code",
   "execution_count": 48,
   "id": "58be72bc",
   "metadata": {
    "id": "58be72bc"
   },
   "outputs": [
    {
     "data": {
      "text/plain": [
       "array([[22.36067977,  0.46364761],\n",
       "       [22.36067977, -0.46364761],\n",
       "       [22.36067977, -2.67794504],\n",
       "       [22.36067977,  2.67794504],\n",
       "       [50.        ,  0.64350111],\n",
       "       [50.        , -0.64350111],\n",
       "       [50.        , -2.49809154],\n",
       "       [50.        ,  2.49809154],\n",
       "       [13.        ,  1.17600521],\n",
       "       [13.        ,  1.96558745]])"
      ]
     },
     "execution_count": 48,
     "metadata": {},
     "output_type": "execute_result"
    }
   ],
   "source": [
    "def func34(a):\n",
    "    res=np.zeros((10,2))\n",
    "    for i in range(10):\n",
    "        res[i][0]=np.sqrt(a[i][0]**2+a[i][1]**2)\n",
    "        res[i][1]=np.arctan2(a[i][0],a[i][1])\n",
    "    return res\n",
    "func34([[10,20],[-10,20],[-10,-20],[10,-20],[30,40],[-30,40],[-30,-40],[30,-40],[12,5],[12,-5]])"
   ]
  },
  {
   "cell_type": "markdown",
   "id": "b7109c9f",
   "metadata": {
    "id": "b7109c9f"
   },
   "source": [
    "#### 35. Create random vector Z of size 10 and replace the maximum value by 0 (★★☆)\n",
    "Hint : We can see the index of maximum value using `Z.argmax()`"
   ]
  },
  {
   "cell_type": "code",
   "execution_count": 84,
   "id": "f79e79a7",
   "metadata": {
    "id": "f79e79a7"
   },
   "outputs": [
    {
     "name": "stdout",
     "output_type": "stream",
     "text": [
      "[13 45 74 77 76 50 91  2  8 77]\n",
      "[13 45 74 77 76 50  0  2  8 77]\n"
     ]
    }
   ],
   "source": [
    "np32=np.random.randint(0,100,(10))\n",
    "print(np32)\n",
    "np32[np32.argmax()]=0\n",
    "print(np32)"
   ]
  },
  {
   "cell_type": "markdown",
   "id": "e6e1ae2f",
   "metadata": {
    "id": "e6e1ae2f"
   },
   "source": [
    "#### 36. How to find the closest value (to a given scalar v) in a vector Z? (★★☆)\n",
    "```python\n",
    "Z = np.arange(100)\n",
    "v = np.random.uniform(0,100)\n",
    "```\n",
    "Hint : Coumpute the distances between the each elements of Z and the scalar v. After that, we can see the index of minimum value using `argmin()`.  "
   ]
  },
  {
   "cell_type": "code",
   "execution_count": 67,
   "id": "QkQ2Mii77FrE",
   "metadata": {
    "id": "QkQ2Mii77FrE"
   },
   "outputs": [
    {
     "name": "stdout",
     "output_type": "stream",
     "text": [
      "47.69955215688366\n",
      "48\n"
     ]
    }
   ],
   "source": [
    "Z = np.arange(100)\n",
    "v = np.random.uniform(0,100)\n",
    "print(v)\n",
    "emp=np.array([])\n",
    "for i in range(100):\n",
    "    emp=np.append(emp,abs(Z[i]-v))\n",
    "    \n",
    "print(Z[emp.argmin()])"
   ]
  },
  {
   "cell_type": "markdown",
   "id": "f98713a6",
   "metadata": {
    "id": "f98713a6"
   },
   "source": [
    "#### 37. What is the equivalent of enumerate for numpy arrays? (★★☆)\n",
    "Hint : Use `numpy.ndenumerate()`or `numpy.ndindex()`\n",
    "\n",
    "Example of the output :\n",
    "```python\n",
    "Z = np.arange(9).reshape(3,3)\n",
    "```\n",
    "```python\n",
    "# output\n",
    "(0, 0) 0\n",
    "(0, 1) 1\n",
    "(0, 2) 2\n",
    "(1, 0) 3\n",
    "(1, 1) 4\n",
    "(1, 2) 5\n",
    "(2, 0) 6\n",
    "(2, 1) 7\n",
    "(2, 2) 8\n",
    "```"
   ]
  },
  {
   "cell_type": "code",
   "execution_count": 70,
   "id": "64795f84",
   "metadata": {
    "id": "64795f84"
   },
   "outputs": [
    {
     "name": "stdout",
     "output_type": "stream",
     "text": [
      "(0, 0) 0\n",
      "(0, 1) 1\n",
      "(0, 2) 2\n",
      "(1, 0) 3\n",
      "(1, 1) 4\n",
      "(1, 2) 5\n",
      "(2, 0) 6\n",
      "(2, 1) 7\n",
      "(2, 2) 8\n"
     ]
    }
   ],
   "source": [
    "Z = np.arange(9).reshape(3,3)\n",
    "for index,x in np.ndenumerate(Z):\n",
    "    print(index,x)"
   ]
  },
  {
   "cell_type": "code",
   "execution_count": 77,
   "id": "5b8d16bb",
   "metadata": {},
   "outputs": [
    {
     "name": "stdout",
     "output_type": "stream",
     "text": [
      "(0, 0) 0\n",
      "(0, 1) 1\n",
      "(0, 2) 2\n",
      "(1, 0) 3\n",
      "(1, 1) 4\n",
      "(1, 2) 5\n",
      "(2, 0) 6\n",
      "(2, 1) 7\n",
      "(2, 2) 8\n"
     ]
    }
   ],
   "source": [
    "Z = np.arange(9).reshape(3,3)\n",
    "for index in np.ndindex(Z.shape):\n",
    "    print(index,Z[index])"
   ]
  },
  {
   "cell_type": "markdown",
   "id": "0cf413ee",
   "metadata": {
    "id": "0cf413ee"
   },
   "source": [
    "#### 38. How to randomly place p elements in a 2D array? (★★☆)\n",
    "Hint : modify the code below\n",
    "```python\n",
    "n = 'size of a 2D array'\n",
    "p = 'the number of elements that you want to place'\n",
    "Z = np.zeros((n,n))\n",
    "np.put(Z, np.random.choice(range(n*n), p, replace = False),'value that you want to place')\n",
    "print(Z)\n",
    "```"
   ]
  },
  {
   "cell_type": "code",
   "execution_count": 82,
   "id": "dfc57e06",
   "metadata": {
    "id": "dfc57e06"
   },
   "outputs": [
    {
     "name": "stdout",
     "output_type": "stream",
     "text": [
      "[[0. 0. 0. 0. 0. 0. 5. 0. 0. 0.]\n",
      " [5. 0. 0. 0. 0. 0. 0. 0. 0. 0.]\n",
      " [0. 0. 5. 0. 5. 0. 0. 5. 0. 5.]\n",
      " [5. 5. 0. 0. 0. 0. 0. 0. 5. 5.]\n",
      " [0. 5. 0. 0. 5. 0. 0. 0. 0. 0.]\n",
      " [0. 0. 0. 0. 0. 0. 0. 0. 0. 5.]\n",
      " [0. 0. 0. 0. 0. 0. 0. 0. 0. 0.]\n",
      " [0. 0. 0. 0. 5. 0. 0. 5. 0. 0.]\n",
      " [5. 0. 0. 5. 5. 0. 0. 0. 0. 0.]\n",
      " [0. 0. 5. 0. 0. 0. 0. 0. 0. 5.]]\n"
     ]
    }
   ],
   "source": [
    "Z = np.zeros((10,10))\n",
    "np.put(Z, np.random.choice(range(10*10), 20, replace = False),5)\n",
    "print(Z)"
   ]
  },
  {
   "cell_type": "markdown",
   "id": "c0cf37e0",
   "metadata": {
    "id": "c0cf37e0"
   },
   "source": [
    "#### 39. How to sort an array below by the nth column? (★★☆)\n",
    "```python\n",
    "Z = np.random.randint(0,10,(3,3))\n",
    "```"
   ]
  },
  {
   "cell_type": "code",
   "execution_count": 87,
   "id": "76e7a23c",
   "metadata": {},
   "outputs": [
    {
     "name": "stdout",
     "output_type": "stream",
     "text": [
      "[[9 7 9]\n",
      " [3 1 9]\n",
      " [6 4 8]]\n"
     ]
    }
   ],
   "source": [
    "Z = np.random.randint(0,10,(3,3))\n",
    "print(Z)"
   ]
  },
  {
   "cell_type": "code",
   "execution_count": 93,
   "id": "9336ca5f",
   "metadata": {
    "id": "9336ca5f"
   },
   "outputs": [
    {
     "name": "stdout",
     "output_type": "stream",
     "text": [
      "[[3 1 9]\n",
      " [6 4 8]\n",
      " [9 7 9]]\n"
     ]
    }
   ],
   "source": [
    "# column 1\n",
    "Z=Z[Z[:,0].argsort()]\n",
    "print(Z)"
   ]
  },
  {
   "cell_type": "code",
   "execution_count": 94,
   "id": "0hZzZ6tn2K6V",
   "metadata": {
    "id": "0hZzZ6tn2K6V"
   },
   "outputs": [
    {
     "name": "stdout",
     "output_type": "stream",
     "text": [
      "[[3 1 9]\n",
      " [6 4 8]\n",
      " [9 7 9]]\n"
     ]
    }
   ],
   "source": [
    "# column 2\n",
    "Z=Z[Z[:,1].argsort()]\n",
    "print(Z)"
   ]
  },
  {
   "cell_type": "code",
   "execution_count": 95,
   "id": "z4zqQXvt2NaB",
   "metadata": {
    "id": "z4zqQXvt2NaB"
   },
   "outputs": [
    {
     "name": "stdout",
     "output_type": "stream",
     "text": [
      "[[6 4 8]\n",
      " [3 1 9]\n",
      " [9 7 9]]\n"
     ]
    }
   ],
   "source": [
    "# column 3\n",
    "Z=Z[Z[:,2].argsort()]\n",
    "print(Z)"
   ]
  }
 ],
 "metadata": {
  "colab": {
   "collapsed_sections": [
    "51898680"
   ],
   "provenance": []
  },
  "kernelspec": {
   "display_name": "Python 3 (ipykernel)",
   "language": "python",
   "name": "python3"
  },
  "language_info": {
   "codemirror_mode": {
    "name": "ipython",
    "version": 3
   },
   "file_extension": ".py",
   "mimetype": "text/x-python",
   "name": "python",
   "nbconvert_exporter": "python",
   "pygments_lexer": "ipython3",
   "version": "3.9.13"
  }
 },
 "nbformat": 4,
 "nbformat_minor": 5
}
